{
 "cells": [
  {
   "cell_type": "code",
   "execution_count": 1,
   "id": "d4868a3a",
   "metadata": {},
   "outputs": [],
   "source": [
    "import pandas as pd \n",
    "import numpy as np\n",
    "import string\n",
    "import re"
   ]
  },
  {
   "cell_type": "code",
   "execution_count": 2,
   "id": "5350e0a5",
   "metadata": {},
   "outputs": [
    {
     "data": {
      "text/html": [
       "<div>\n",
       "<style scoped>\n",
       "    .dataframe tbody tr th:only-of-type {\n",
       "        vertical-align: middle;\n",
       "    }\n",
       "\n",
       "    .dataframe tbody tr th {\n",
       "        vertical-align: top;\n",
       "    }\n",
       "\n",
       "    .dataframe thead th {\n",
       "        text-align: right;\n",
       "    }\n",
       "</style>\n",
       "<table border=\"1\" class=\"dataframe\">\n",
       "  <thead>\n",
       "    <tr style=\"text-align: right;\">\n",
       "      <th></th>\n",
       "      <th>Unnamed: 0</th>\n",
       "      <th>Created_At</th>\n",
       "      <th>Tweets</th>\n",
       "    </tr>\n",
       "  </thead>\n",
       "  <tbody>\n",
       "    <tr>\n",
       "      <th>0</th>\n",
       "      <td>0</td>\n",
       "      <td>2021-10-23 09:28:10+00:00</td>\n",
       "      <td>shopeefood ini ga bisa ngasih tip buat driver ...</td>\n",
       "    </tr>\n",
       "    <tr>\n",
       "      <th>1</th>\n",
       "      <td>1</td>\n",
       "      <td>2021-10-23 09:20:37+00:00</td>\n",
       "      <td>jangan ujan woyy shopeefood gua belom sampe 😭</td>\n",
       "    </tr>\n",
       "    <tr>\n",
       "      <th>2</th>\n",
       "      <td>2</td>\n",
       "      <td>2021-10-23 09:20:00+00:00</td>\n",
       "      <td>Gw masih kepikiran that random cheesecake I fo...</td>\n",
       "    </tr>\n",
       "    <tr>\n",
       "      <th>3</th>\n",
       "      <td>3</td>\n",
       "      <td>2021-10-23 09:13:06+00:00</td>\n",
       "      <td>@urlovelymeow Coba cek di shopeefood</td>\n",
       "    </tr>\n",
       "    <tr>\n",
       "      <th>4</th>\n",
       "      <td>4</td>\n",
       "      <td>2021-10-23 09:08:42+00:00</td>\n",
       "      <td>@wannayuuu @bdngfess Sok kirim aja kalo mau mh...</td>\n",
       "    </tr>\n",
       "    <tr>\n",
       "      <th>...</th>\n",
       "      <td>...</td>\n",
       "      <td>...</td>\n",
       "      <td>...</td>\n",
       "    </tr>\n",
       "    <tr>\n",
       "      <th>495</th>\n",
       "      <td>495</td>\n",
       "      <td>2021-10-20 14:45:20+00:00</td>\n",
       "      <td>Mesen shopeefood jam segini masih mau g y orng...</td>\n",
       "    </tr>\n",
       "    <tr>\n",
       "      <th>496</th>\n",
       "      <td>496</td>\n",
       "      <td>2021-10-20 14:38:26+00:00</td>\n",
       "      <td>Pesen shopeefood, 5 menit kemudian ujan. Gak e...</td>\n",
       "    </tr>\n",
       "    <tr>\n",
       "      <th>497</th>\n",
       "      <td>497</td>\n",
       "      <td>2021-10-20 14:30:32+00:00</td>\n",
       "      <td>Sedikit kaget, lg ambil makanan di mamang shop...</td>\n",
       "    </tr>\n",
       "    <tr>\n",
       "      <th>498</th>\n",
       "      <td>498</td>\n",
       "      <td>2021-10-20 14:18:46+00:00</td>\n",
       "      <td>@kimkailips Beli juga tadi, pake shopeefood. T...</td>\n",
       "    </tr>\n",
       "    <tr>\n",
       "      <th>499</th>\n",
       "      <td>499</td>\n",
       "      <td>2021-10-20 14:07:43+00:00</td>\n",
       "      <td>Cara mesen shopeefood tuh gimana sih? Harus do...</td>\n",
       "    </tr>\n",
       "  </tbody>\n",
       "</table>\n",
       "<p>500 rows × 3 columns</p>\n",
       "</div>"
      ],
      "text/plain": [
       "     Unnamed: 0                 Created_At  \\\n",
       "0             0  2021-10-23 09:28:10+00:00   \n",
       "1             1  2021-10-23 09:20:37+00:00   \n",
       "2             2  2021-10-23 09:20:00+00:00   \n",
       "3             3  2021-10-23 09:13:06+00:00   \n",
       "4             4  2021-10-23 09:08:42+00:00   \n",
       "..          ...                        ...   \n",
       "495         495  2021-10-20 14:45:20+00:00   \n",
       "496         496  2021-10-20 14:38:26+00:00   \n",
       "497         497  2021-10-20 14:30:32+00:00   \n",
       "498         498  2021-10-20 14:18:46+00:00   \n",
       "499         499  2021-10-20 14:07:43+00:00   \n",
       "\n",
       "                                                Tweets  \n",
       "0    shopeefood ini ga bisa ngasih tip buat driver ...  \n",
       "1        jangan ujan woyy shopeefood gua belom sampe 😭  \n",
       "2    Gw masih kepikiran that random cheesecake I fo...  \n",
       "3                 @urlovelymeow Coba cek di shopeefood  \n",
       "4    @wannayuuu @bdngfess Sok kirim aja kalo mau mh...  \n",
       "..                                                 ...  \n",
       "495  Mesen shopeefood jam segini masih mau g y orng...  \n",
       "496  Pesen shopeefood, 5 menit kemudian ujan. Gak e...  \n",
       "497  Sedikit kaget, lg ambil makanan di mamang shop...  \n",
       "498  @kimkailips Beli juga tadi, pake shopeefood. T...  \n",
       "499  Cara mesen shopeefood tuh gimana sih? Harus do...  \n",
       "\n",
       "[500 rows x 3 columns]"
      ]
     },
     "execution_count": 2,
     "metadata": {},
     "output_type": "execute_result"
    }
   ],
   "source": [
    "datanya = pd.read_csv('crawling-1-shopeefood.csv')\n",
    "\n",
    "datanya.head(500)"
   ]
  },
  {
   "cell_type": "code",
   "execution_count": 4,
   "id": "b355885f",
   "metadata": {},
   "outputs": [
    {
     "name": "stdout",
     "output_type": "stream",
     "text": [
      "Hasil Case Folding: \n",
      "\n",
      "0      shopeefood ini ga bisa ngasih tip buat driver ...\n",
      "1          jangan ujan woyy shopeefood gua belom sampe 😭\n",
      "2      gw masih kepikiran that random cheesecake i fo...\n",
      "3                   @urlovelymeow coba cek di shopeefood\n",
      "4      @wannayuuu @bdngfess sok kirim aja kalo mau mh...\n",
      "                             ...                        \n",
      "495    mesen shopeefood jam segini masih mau g y orng...\n",
      "496    pesen shopeefood, 5 menit kemudian ujan. gak e...\n",
      "497    sedikit kaget, lg ambil makanan di mamang shop...\n",
      "498    @kimkailips beli juga tadi, pake shopeefood. t...\n",
      "499    cara mesen shopeefood tuh gimana sih? harus do...\n",
      "Name: Tweets, Length: 500, dtype: object\n"
     ]
    }
   ],
   "source": [
    "datanya['Tweets'] = datanya['Tweets'].str.lower()\n",
    "\n",
    "print('Hasil Case Folding: \\n')\n",
    "print(datanya['Tweets'].head(500))"
   ]
  },
  {
   "cell_type": "code",
   "execution_count": 5,
   "id": "7c415bab",
   "metadata": {},
   "outputs": [],
   "source": [
    "datanya.to_csv('crawling-1-shopeefood.csv')"
   ]
  },
  {
   "cell_type": "code",
   "execution_count": null,
   "id": "d797e412",
   "metadata": {},
   "outputs": [],
   "source": []
  }
 ],
 "metadata": {
  "kernelspec": {
   "display_name": "Python 3 (ipykernel)",
   "language": "python",
   "name": "python3"
  },
  "language_info": {
   "codemirror_mode": {
    "name": "ipython",
    "version": 3
   },
   "file_extension": ".py",
   "mimetype": "text/x-python",
   "name": "python",
   "nbconvert_exporter": "python",
   "pygments_lexer": "ipython3",
   "version": "3.9.7"
  }
 },
 "nbformat": 4,
 "nbformat_minor": 5
}
