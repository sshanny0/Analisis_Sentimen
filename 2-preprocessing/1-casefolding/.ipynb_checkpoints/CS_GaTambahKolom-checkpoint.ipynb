{
 "cells": [
  {
   "cell_type": "code",
   "execution_count": 1,
   "id": "d4868a3a",
   "metadata": {},
   "outputs": [],
   "source": [
    "import pandas as pd \n",
    "import numpy as np\n",
    "import string\n",
    "import re"
   ]
  },
  {
   "cell_type": "code",
   "execution_count": 2,
   "id": "5350e0a5",
   "metadata": {},
   "outputs": [
    {
     "data": {
      "text/html": [
       "<div>\n",
       "<style scoped>\n",
       "    .dataframe tbody tr th:only-of-type {\n",
       "        vertical-align: middle;\n",
       "    }\n",
       "\n",
       "    .dataframe tbody tr th {\n",
       "        vertical-align: top;\n",
       "    }\n",
       "\n",
       "    .dataframe thead th {\n",
       "        text-align: right;\n",
       "    }\n",
       "</style>\n",
       "<table border=\"1\" class=\"dataframe\">\n",
       "  <thead>\n",
       "    <tr style=\"text-align: right;\">\n",
       "      <th></th>\n",
       "      <th>Unnamed: 0</th>\n",
       "      <th>Created_At</th>\n",
       "      <th>Tweets</th>\n",
       "    </tr>\n",
       "  </thead>\n",
       "  <tbody>\n",
       "    <tr>\n",
       "      <th>0</th>\n",
       "      <td>0</td>\n",
       "      <td>2021-10-23 08:57:30+00:00</td>\n",
       "      <td>@loveseskrim syopifud ajaaa coba sheiii</td>\n",
       "    </tr>\n",
       "    <tr>\n",
       "      <th>1</th>\n",
       "      <td>1</td>\n",
       "      <td>2021-10-23 05:08:54+00:00</td>\n",
       "      <td>@jinkasperr syopifud mantep 12k dpt 2</td>\n",
       "    </tr>\n",
       "    <tr>\n",
       "      <th>2</th>\n",
       "      <td>2</td>\n",
       "      <td>2021-10-23 01:42:39+00:00</td>\n",
       "      <td>@yogurtgreenF syopifud lbh bakar duit kak woakwoa</td>\n",
       "    </tr>\n",
       "    <tr>\n",
       "      <th>3</th>\n",
       "      <td>3</td>\n",
       "      <td>2021-10-22 17:11:46+00:00</td>\n",
       "      <td>valid bgt dah sumpah senior asso w kalo ngitun...</td>\n",
       "    </tr>\n",
       "    <tr>\n",
       "      <th>4</th>\n",
       "      <td>4</td>\n",
       "      <td>2021-10-22 14:30:30+00:00</td>\n",
       "      <td>syopifud adalah jalan ninjaku</td>\n",
       "    </tr>\n",
       "    <tr>\n",
       "      <th>...</th>\n",
       "      <td>...</td>\n",
       "      <td>...</td>\n",
       "      <td>...</td>\n",
       "    </tr>\n",
       "    <tr>\n",
       "      <th>141</th>\n",
       "      <td>141</td>\n",
       "      <td>2021-10-14 13:54:39+00:00</td>\n",
       "      <td>@minfaery HUHU BELOM ADA SYOPIFUD DI SINI KA A...</td>\n",
       "    </tr>\n",
       "    <tr>\n",
       "      <th>142</th>\n",
       "      <td>142</td>\n",
       "      <td>2021-10-14 13:52:52+00:00</td>\n",
       "      <td>@minfaery syopifud in aku kak</td>\n",
       "    </tr>\n",
       "    <tr>\n",
       "      <th>143</th>\n",
       "      <td>143</td>\n",
       "      <td>2021-10-14 13:52:12+00:00</td>\n",
       "      <td>capek bgt mending syopifud apa hari ini</td>\n",
       "    </tr>\n",
       "    <tr>\n",
       "      <th>144</th>\n",
       "      <td>144</td>\n",
       "      <td>2021-10-14 13:27:08+00:00</td>\n",
       "      <td>@moonareas daritadi scroll syopifud bingung ma...</td>\n",
       "    </tr>\n",
       "    <tr>\n",
       "      <th>145</th>\n",
       "      <td>145</td>\n",
       "      <td>2021-10-14 13:14:09+00:00</td>\n",
       "      <td>@WAHYUYK_ Tim syopifud ni</td>\n",
       "    </tr>\n",
       "  </tbody>\n",
       "</table>\n",
       "<p>146 rows × 3 columns</p>\n",
       "</div>"
      ],
      "text/plain": [
       "     Unnamed: 0                 Created_At  \\\n",
       "0             0  2021-10-23 08:57:30+00:00   \n",
       "1             1  2021-10-23 05:08:54+00:00   \n",
       "2             2  2021-10-23 01:42:39+00:00   \n",
       "3             3  2021-10-22 17:11:46+00:00   \n",
       "4             4  2021-10-22 14:30:30+00:00   \n",
       "..          ...                        ...   \n",
       "141         141  2021-10-14 13:54:39+00:00   \n",
       "142         142  2021-10-14 13:52:52+00:00   \n",
       "143         143  2021-10-14 13:52:12+00:00   \n",
       "144         144  2021-10-14 13:27:08+00:00   \n",
       "145         145  2021-10-14 13:14:09+00:00   \n",
       "\n",
       "                                                Tweets  \n",
       "0              @loveseskrim syopifud ajaaa coba sheiii  \n",
       "1                @jinkasperr syopifud mantep 12k dpt 2  \n",
       "2    @yogurtgreenF syopifud lbh bakar duit kak woakwoa  \n",
       "3    valid bgt dah sumpah senior asso w kalo ngitun...  \n",
       "4                        syopifud adalah jalan ninjaku  \n",
       "..                                                 ...  \n",
       "141  @minfaery HUHU BELOM ADA SYOPIFUD DI SINI KA A...  \n",
       "142                      @minfaery syopifud in aku kak  \n",
       "143            capek bgt mending syopifud apa hari ini  \n",
       "144  @moonareas daritadi scroll syopifud bingung ma...  \n",
       "145                          @WAHYUYK_ Tim syopifud ni  \n",
       "\n",
       "[146 rows x 3 columns]"
      ]
     },
     "execution_count": 2,
     "metadata": {},
     "output_type": "execute_result"
    }
   ],
   "source": [
    "datanya = pd.read_csv('crawling-1-syopifud.csv')\n",
    "\n",
    "datanya.head(150)"
   ]
  },
  {
   "cell_type": "code",
   "execution_count": 3,
   "id": "b355885f",
   "metadata": {},
   "outputs": [
    {
     "name": "stdout",
     "output_type": "stream",
     "text": [
      "Hasil Case Folding: \n",
      "\n",
      "0                @loveseskrim syopifud ajaaa coba sheiii\n",
      "1                  @jinkasperr syopifud mantep 12k dpt 2\n",
      "2      @yogurtgreenf syopifud lbh bakar duit kak woakwoa\n",
      "3      valid bgt dah sumpah senior asso w kalo ngitun...\n",
      "4                          syopifud adalah jalan ninjaku\n",
      "                             ...                        \n",
      "141    @minfaery huhu belom ada syopifud di sini ka a...\n",
      "142                        @minfaery syopifud in aku kak\n",
      "143              capek bgt mending syopifud apa hari ini\n",
      "144    @moonareas daritadi scroll syopifud bingung ma...\n",
      "145                            @wahyuyk_ tim syopifud ni\n",
      "Name: Tweets, Length: 146, dtype: object\n"
     ]
    }
   ],
   "source": [
    "datanya['Tweets'] = datanya['Tweets'].str.lower()\n",
    "\n",
    "print('Hasil Case Folding: \\n')\n",
    "print(datanya['Tweets'].head(150))"
   ]
  },
  {
   "cell_type": "code",
   "execution_count": 4,
   "id": "7c415bab",
   "metadata": {},
   "outputs": [],
   "source": [
    "datanya.to_csv('crawling-1-syopifud.csv')"
   ]
  },
  {
   "cell_type": "code",
   "execution_count": null,
   "id": "d797e412",
   "metadata": {},
   "outputs": [],
   "source": []
  }
 ],
 "metadata": {
  "kernelspec": {
   "display_name": "Python 3 (ipykernel)",
   "language": "python",
   "name": "python3"
  },
  "language_info": {
   "codemirror_mode": {
    "name": "ipython",
    "version": 3
   },
   "file_extension": ".py",
   "mimetype": "text/x-python",
   "name": "python",
   "nbconvert_exporter": "python",
   "pygments_lexer": "ipython3",
   "version": "3.9.7"
  }
 },
 "nbformat": 4,
 "nbformat_minor": 5
}
