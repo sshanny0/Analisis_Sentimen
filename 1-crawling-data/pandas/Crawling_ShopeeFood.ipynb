{
 "cells": [
  {
   "cell_type": "code",
   "execution_count": 1,
   "id": "34e326cd",
   "metadata": {},
   "outputs": [],
   "source": [
    "import tweepy\n",
    "from tweepy import OAuthHandler\n",
    "import csv\n",
    "import pandas as pd"
   ]
  },
  {
   "cell_type": "code",
   "execution_count": 2,
   "id": "d18edc76",
   "metadata": {},
   "outputs": [],
   "source": [
    "api_key = \"qubRP6d5B5eCD3RHrgoMRkDjH\"\n",
    "api_secret_key = \"AJlk1MiHfXqnhByWtCf1Mbi2T9WGW08hoLkkDIbks4ztUpFx99\"\n",
    "access_token =\"3180202308-DmrgiSoxUUoSRevLLPldgCE57M0eD117K0mhFG5\"\n",
    "access_token_secret = \"fuY5Hkk838OnmGOZUb16KLkSDw3JZjflxXQ1NHP6pP9Jr\""
   ]
  },
  {
   "cell_type": "code",
   "execution_count": 3,
   "id": "a01b24d9",
   "metadata": {},
   "outputs": [],
   "source": [
    "auth = tweepy.OAuthHandler(api_key, api_secret_key)\n",
    "auth.set_access_token(access_token, access_token_secret) \n",
    "API = tweepy.API(auth, wait_on_rate_limit = False)"
   ]
  },
  {
   "cell_type": "code",
   "execution_count": 19,
   "id": "e79f5641",
   "metadata": {},
   "outputs": [],
   "source": [
    "posts = tweepy.Cursor(API.search_tweets, q='shopeefood -filter:retweets', tweet_mode='extended',lang=\"id\").items(50)"
   ]
  },
  {
   "cell_type": "code",
   "execution_count": 16,
   "id": "7df0e9c8",
   "metadata": {},
   "outputs": [
    {
     "ename": "NameError",
     "evalue": "name 'SearchResults' is not defined",
     "output_type": "error",
     "traceback": [
      "\u001b[1;31m---------------------------------------------------------------------------\u001b[0m",
      "\u001b[1;31mNameError\u001b[0m                                 Traceback (most recent call last)",
      "\u001b[1;32m~\\AppData\\Local\\Temp/ipykernel_10976/1438489939.py\u001b[0m in \u001b[0;36m<module>\u001b[1;34m\u001b[0m\n\u001b[1;32m----> 1\u001b[1;33m \u001b[0mSearchResults\u001b[0m\u001b[1;33m\u001b[0m\u001b[1;33m\u001b[0m\u001b[0m\n\u001b[0m",
      "\u001b[1;31mNameError\u001b[0m: name 'SearchResults' is not defined"
     ]
    }
   ],
   "source": [
    "SearchResults"
   ]
  },
  {
   "cell_type": "code",
   "execution_count": 20,
   "id": "aae83894",
   "metadata": {},
   "outputs": [
    {
     "data": {
      "text/plain": [
       "[[datetime.datetime(2021, 11, 17, 13, 43, 19, tzinfo=datetime.timezone.utc),\n",
       "  'bisa sih ke shopeefood/gofood. masalahnya aku udah terlanjur top up di ovoo🥲 huft'],\n",
       " [datetime.datetime(2021, 11, 17, 13, 43, 10, tzinfo=datetime.timezone.utc),\n",
       "  '@sndraslvv kesel btul loh, mau beli makan di shopeefood aja mau pake akunku. Pdhl dia punya'],\n",
       " [datetime.datetime(2021, 11, 17, 13, 40, 6, tzinfo=datetime.timezone.utc),\n",
       "  'udh isi saldo shopeepay biar bisa shopeefood, karena hujannya udh redaan eh, hujan deres lagi. mengsad :,-)'],\n",
       " [datetime.datetime(2021, 11, 17, 13, 37, 2, tzinfo=datetime.timezone.utc),\n",
       "  '@septianin_ Aku kak, biar ngebid shopeefood nya smkin semangat'],\n",
       " [datetime.datetime(2021, 11, 17, 13, 35, 56, tzinfo=datetime.timezone.utc),\n",
       "  '@panduvw @stringbenang Iyaaa kaaannn.. apalagi shopeefood skrg2 ini'],\n",
       " [datetime.datetime(2021, 11, 17, 13, 33, 55, tzinfo=datetime.timezone.utc),\n",
       "  'Mari maammm @pijje \\nDisponsori oleh @mikyrdong &amp; Akbar 😬\\n\\nNi aku kaya mang mang shopeefood😭👍🏻 https://t.co/G5MXzxBqaR'],\n",
       " [datetime.datetime(2021, 11, 17, 13, 28, 43, tzinfo=datetime.timezone.utc),\n",
       "  'yak, akhirnya ada shopeefood di balam'],\n",
       " [datetime.datetime(2021, 11, 17, 13, 26, 5, tzinfo=datetime.timezone.utc),\n",
       "  'wkwk norak bgt baru pernah beli shopeefood karna biasanya di ijo2 terus, iseng sambil bimbel bm burger eh liat diskon pembelian pertamanya🤑👍🏻 https://t.co/cVQXFJUBcB'],\n",
       " [datetime.datetime(2021, 11, 17, 13, 23, 28, tzinfo=datetime.timezone.utc),\n",
       "  '@rrrtttaaaa @uenggggg Ayo gaes shopeefood aja ke majalengka dan kuningan'],\n",
       " [datetime.datetime(2021, 11, 17, 13, 22, 26, tzinfo=datetime.timezone.utc),\n",
       "  '@ShopeeID @Hedinatirta1 Dikota kota kecil kapan bukanya. . . Masak kota2 bsar saja yang dibuka #ShopeeFood'],\n",
       " [datetime.datetime(2021, 11, 17, 13, 18, 46, tzinfo=datetime.timezone.utc),\n",
       "  'trus ini posisi udah di masak nih makanan tinggal nunggu mateng, eh dia main cancel gitu aja, masalahnya udah 3x berturu-turut, kalo cuma sekali dua kali gue maklum deh 🙂. kalo macem gofood bisa di kompensasi lumayan, lah ini shopeefood sama grabfood gabisa.'],\n",
       " [datetime.datetime(2021, 11, 17, 13, 12, 19, tzinfo=datetime.timezone.utc),\n",
       "  'Panjang umur buat driver gofood atau shopeefood yang nganter sampe depan kamar 🤩'],\n",
       " [datetime.datetime(2021, 11, 17, 13, 8, 41, tzinfo=datetime.timezone.utc),\n",
       "  'ini ada ye 1 driver yang namanya imam selalu cancel orderan dari resto, ngomongnya cuaca buruk. asli udah 3x ni orang gak di grabfood gak di shopeefood sukanya ngecancel :”)'],\n",
       " [datetime.datetime(2021, 11, 17, 13, 6, 25, tzinfo=datetime.timezone.utc),\n",
       "  '@DiahMee masih, shopeefood jg ada 🤣'],\n",
       " [datetime.datetime(2021, 11, 17, 13, 4, 1, tzinfo=datetime.timezone.utc),\n",
       "  'Takutnya die ngajak kenalan, GUE masih pake jaket shopeeFood soalnya, aromanya lg kurang nyaman.'],\n",
       " [datetime.datetime(2021, 11, 17, 13, 0, 7, tzinfo=datetime.timezone.utc),\n",
       "  '@curvybeb gojek atau shopeefood?'],\n",
       " [datetime.datetime(2021, 11, 17, 13, 0, 1, tzinfo=datetime.timezone.utc),\n",
       "  'TAPI INI BERLAKU KALO PAKE VOUCHER DARI SHOPEEFOOD YA😡'],\n",
       " [datetime.datetime(2021, 11, 17, 12, 53, 7, tzinfo=datetime.timezone.utc),\n",
       "  'Tadi abis ngeliat driver ShopeeFood bawa penumpang\\n\\nYg mesen Sumanto apa gimana'],\n",
       " [datetime.datetime(2021, 11, 17, 12, 50, 32, tzinfo=datetime.timezone.utc),\n",
       "  'BEAR BOBBA LOWOKWARU / BLIMBING\\n\\nBoba Double Salted Caramel  15K #BigCup22oz\\n50% Disc #ShopeeFood #GrabFood #GoFood\\n\\nhttps://t.co/6fplAdGVlD\\n\\n#InfoKulinerMalang\\n#LaporLaper\\n#KulinerHitsMalang\\n#MalangCulinary\\n#BobaMalang\\n#KopiMalang \\n#EsTehMalang\\n#MojitoMalang\\n#Grab\\n#GoJek\\n#Shopee https://t.co/ZwM10gQUtu'],\n",
       " [datetime.datetime(2021, 11, 17, 12, 45, 37, tzinfo=datetime.timezone.utc),\n",
       "  '@putriayu_p Sarapanku bu rini yg cuma 8000 pun ngga ada yg hujat 🤣 kalau di scbd ku yakin ngga akan mgkn kyknya cari makanan diskonan ovo atau gopay atau grabfood atau shopeefood 🤣 keburu gengsi yg ada ngga makan'],\n",
       " [datetime.datetime(2021, 11, 17, 12, 43, 32, tzinfo=datetime.timezone.utc),\n",
       "  'gara gara bingung mau makan apa akhirnya gue makan hokben sebulan berturut turut biar cepet 🥲\\n\\nmayan pake shopeefood jadi 17 rebu 🙂👍 https://t.co/qaoMghb1L7'],\n",
       " [datetime.datetime(2021, 11, 17, 12, 38, 40, tzinfo=datetime.timezone.utc),\n",
       "  '@fauzanmuzzammi1 kalau cari pacar dulu lebih effort, mending buka shopeefood aja.'],\n",
       " [datetime.datetime(2021, 11, 17, 12, 35, 28, tzinfo=datetime.timezone.utc),\n",
       "  '@micosyrf @kevinchoc Pake shopeefood hanya 30rb terus gratis ongkir'],\n",
       " [datetime.datetime(2021, 11, 17, 12, 31, 53, tzinfo=datetime.timezone.utc),\n",
       "  'Bestnya guna ShopeeFood!'],\n",
       " [datetime.datetime(2021, 11, 17, 12, 26, 19, tzinfo=datetime.timezone.utc),\n",
       "  'shopeefood isinya sad food semua pls mau makan aja susah 😔'],\n",
       " [datetime.datetime(2021, 11, 17, 12, 20, 33, tzinfo=datetime.timezone.utc),\n",
       "  '@FOODFESS2 Coba search di gofood/grabfood or shopeefood nder barangkali adaa'],\n",
       " [datetime.datetime(2021, 11, 17, 12, 20, 26, tzinfo=datetime.timezone.utc),\n",
       "  'ada yang mau pake diskon shopeefood aku ga ya? sayang banget besok udah hangus vc nya https://t.co/iSvD7eeThT'],\n",
       " [datetime.datetime(2021, 11, 17, 12, 15, 50, tzinfo=datetime.timezone.utc),\n",
       "  '@zoacityx gajadi zoaa udah ak beliin shopeefood😃 makasiee'],\n",
       " [datetime.datetime(2021, 11, 17, 12, 14, 17, tzinfo=datetime.timezone.utc),\n",
       "  'gue ke atasan; \\n\\n\"bang pengen roti o deh wangi bgt kayanya enak\"\\n\\natasan gue; \\n\\n\"beli lah shopeefood aja. tar aku topup\"\\n\\nbagaimaba aku tidak gendut:('],\n",
       " [datetime.datetime(2021, 11, 17, 12, 0, 28, tzinfo=datetime.timezone.utc),\n",
       "  '@RFDorable_ hai ka, mohon maaf ya atas kendalanya. Mimin infoin ya Kak terkait kendala tidak dapat melakukan pemesanan ShopeeFood. Hal ini disebabkan karena sedang terjadi kendala sistem pada Shopee. Jika ada kendala lebih lanjut boleh DM yaa ka. Met sore🙏^MR'],\n",
       " [datetime.datetime(2021, 11, 17, 12, 0, 2, tzinfo=datetime.timezone.utc),\n",
       "  'Mau makan enak dan murah? Laperisme aja\\n\\n- Mie nya pedesss\\n- Spicy Chicken wonton nya wajib dicoba\\n- Ada juga menu baru Savoury Cheese Gyoza yang keju banget \\n\\nBisa order di Grabfood, Gofood dan Shopeefood\\n\\nJangan lupa follow IG nya (at) laperisme ya, suka ada kejutan disana. https://t.co/9UAK6K7Xh4'],\n",
       " [datetime.datetime(2021, 11, 17, 11, 55, 59, tzinfo=datetime.timezone.utc),\n",
       "  '@ShopeeID mau buat jajan di shopeefood terus pake promo biar dapet banyak dan duitnya awet'],\n",
       " [datetime.datetime(2021, 11, 17, 11, 51, 16, tzinfo=datetime.timezone.utc),\n",
       "  '@slytherinds Aduh jadi pengen. Tapi enggak ada di gofood sama shopeefood.'],\n",
       " [datetime.datetime(2021, 11, 17, 11, 51, 9, tzinfo=datetime.timezone.utc),\n",
       "  'Mo nangis, 2 hari an ini beli nasi goreng di shopeefood 15ribuan dapat dua'],\n",
       " [datetime.datetime(2021, 11, 17, 11, 51, 9, tzinfo=datetime.timezone.utc),\n",
       "  'waktu prime time gini shopeefood lagi gacor2nya, kadang ngrasa jadi minoritas kalo ikut antri di resto pake jaket grab sendirian'],\n",
       " [datetime.datetime(2021, 11, 17, 11, 40, 20, tzinfo=datetime.timezone.utc),\n",
       "  'Pgn jd driver shopeefood boleh ga sih kl org cakep kek ak xixi'],\n",
       " [datetime.datetime(2021, 11, 17, 11, 38, 11, tzinfo=datetime.timezone.utc),\n",
       "  '@nvrss_ kaget mau ndelok notif bar kok ono tulisane \"sayang sudah sampe\" jebul shopeefood :('],\n",
       " [datetime.datetime(2021, 11, 17, 11, 34, 59, tzinfo=datetime.timezone.utc),\n",
       "  '@jakeyjakery Pake promo shopeefood wkwk\\nAslinya klo pake promo 18k, tapi krn aku ada koin Shopee jdnya 15k doang'],\n",
       " [datetime.datetime(2021, 11, 17, 11, 32, 31, tzinfo=datetime.timezone.utc),\n",
       "  'Beneran cinta bgt sama shopeefood. Dari 122k jadi cuma 87k lumayan banget😭👌🏻 https://t.co/rkAiAltIfS'],\n",
       " [datetime.datetime(2021, 11, 17, 11, 29, 19, tzinfo=datetime.timezone.utc),\n",
       "  '@hrdbacot umr jogja naik 18k, mayan shopeefood sekali'],\n",
       " [datetime.datetime(2021, 11, 17, 11, 26, 52, tzinfo=datetime.timezone.utc),\n",
       "  '@ShopeeID mauuuu  banget dong, lagi kepengen makan pake shopeefood nich'],\n",
       " [datetime.datetime(2021, 11, 17, 11, 26, 4, tzinfo=datetime.timezone.utc),\n",
       "  '@ShopeeID Mau dong min\\nShopeefood yak hehe'],\n",
       " [datetime.datetime(2021, 11, 17, 11, 22, 18, tzinfo=datetime.timezone.utc),\n",
       "  '@ShopeeID Mau min buat jajan di shopeefood. Bulan ini belum bisa jajan'],\n",
       " [datetime.datetime(2021, 11, 17, 11, 18, 17, tzinfo=datetime.timezone.utc),\n",
       "  'Esque - Minuman\\n\\nDulu iseng pesen sama suami karena dia ini murah dan variannya ga cuma kopi atau boba.\\nPaling rekomen Murbey Creamy sama Lovely Strawberry Creamy\\n\\nAvailable: Shopeefood, Grabfood, Gofood https://t.co/brYMgPhVLC'],\n",
       " [datetime.datetime(2021, 11, 17, 11, 14, 52, tzinfo=datetime.timezone.utc),\n",
       "  'Nomojowo - Nasi ricebox\\n\\nLauknya dari ayam, sapi, sampe seafood ada. Sambel nya macem2 dan porsinya kenyang pas buat aku. Paling enak matahnya 👌👌👌🔥🔥🔥\\n\\nAvailable: grabfood,shopeefood,gofood https://t.co/ueOW8dEmDB'],\n",
       " [datetime.datetime(2021, 11, 17, 11, 10, 32, tzinfo=datetime.timezone.utc),\n",
       "  'Shopeefood ini bkin aku tiap hari beli boba 🤣'],\n",
       " [datetime.datetime(2021, 11, 17, 11, 9, 14, tzinfo=datetime.timezone.utc),\n",
       "  '@convomf nge ss ini soalnya abis pesen shopeefood, di kotaku baru ada shopeefood pls😔 https://t.co/espd1HAxAh'],\n",
       " [datetime.datetime(2021, 11, 17, 11, 4, 54, tzinfo=datetime.timezone.utc),\n",
       "  'Nyoklat klasik bendul buka dong plis, semingguan ngecek shopeefood trs pengen nyoklat klasik ga buka buka :('],\n",
       " [datetime.datetime(2021, 11, 17, 11, 3, 54, tzinfo=datetime.timezone.utc),\n",
       "  'Semenjak pandemi gang gang menuju kosku tuh pada ditutup portalnya, yang buka cuma 1. Kasian banget ke pak gojek ma shopeefood pasti nyasar lewat blkg :))'],\n",
       " [datetime.datetime(2021, 11, 17, 10, 59, 53, tzinfo=datetime.timezone.utc),\n",
       "  'order shopeefood\\n\\n\"jgn lupa bintang 5 y kak\"\\n\\n\"ooh iya, aamiin pak\"\\n\\n\"👀\"\\n\\namin sih amin :\\'']]"
      ]
     },
     "execution_count": 20,
     "metadata": {},
     "output_type": "execute_result"
    }
   ],
   "source": [
    "users = [[tweet.created_at, tweet.full_text] for tweet in posts]\n",
    "users"
   ]
  },
  {
   "cell_type": "code",
   "execution_count": 13,
   "id": "48c18022",
   "metadata": {},
   "outputs": [
    {
     "data": {
      "text/html": [
       "<div>\n",
       "<style scoped>\n",
       "    .dataframe tbody tr th:only-of-type {\n",
       "        vertical-align: middle;\n",
       "    }\n",
       "\n",
       "    .dataframe tbody tr th {\n",
       "        vertical-align: top;\n",
       "    }\n",
       "\n",
       "    .dataframe thead th {\n",
       "        text-align: right;\n",
       "    }\n",
       "</style>\n",
       "<table border=\"1\" class=\"dataframe\">\n",
       "  <thead>\n",
       "    <tr style=\"text-align: right;\">\n",
       "      <th></th>\n",
       "      <th>Created_At</th>\n",
       "      <th>Tweets</th>\n",
       "    </tr>\n",
       "  </thead>\n",
       "  <tbody>\n",
       "  </tbody>\n",
       "</table>\n",
       "</div>"
      ],
      "text/plain": [
       "Empty DataFrame\n",
       "Columns: [Created_At, Tweets]\n",
       "Index: []"
      ]
     },
     "execution_count": 13,
     "metadata": {},
     "output_type": "execute_result"
    }
   ],
   "source": [
    "df = pd.DataFrame(data=users, columns=['Created_At','Tweets'])\n",
    "df"
   ]
  },
  {
   "cell_type": "code",
   "execution_count": 8,
   "id": "5ecaa8ab",
   "metadata": {},
   "outputs": [],
   "source": [
    "df.to_csv('crawling-6-shopeefood.csv')"
   ]
  },
  {
   "cell_type": "code",
   "execution_count": null,
   "id": "8a41249e",
   "metadata": {},
   "outputs": [],
   "source": []
  }
 ],
 "metadata": {
  "kernelspec": {
   "display_name": "Python 3 (ipykernel)",
   "language": "python",
   "name": "python3"
  },
  "language_info": {
   "codemirror_mode": {
    "name": "ipython",
    "version": 3
   },
   "file_extension": ".py",
   "mimetype": "text/x-python",
   "name": "python",
   "nbconvert_exporter": "python",
   "pygments_lexer": "ipython3",
   "version": "3.9.7"
  }
 },
 "nbformat": 4,
 "nbformat_minor": 5
}
