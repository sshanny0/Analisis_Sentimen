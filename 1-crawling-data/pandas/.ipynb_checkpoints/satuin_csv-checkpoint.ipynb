{
 "cells": [
  {
   "cell_type": "code",
   "execution_count": 1,
   "id": "1301b6b7",
   "metadata": {},
   "outputs": [],
   "source": [
    "import pandas as pd\n",
    "import csv"
   ]
  },
  {
   "cell_type": "code",
   "execution_count": null,
   "id": "37df0a64",
   "metadata": {},
   "outputs": [],
   "source": [
    "csv_file_list = ['crawling-1-shopeefood.csv', 'crawling-1-syopifud.csv', 'crawling-2-shopeefood.csv', 'crawling-2-syopifud.csv', 'crawling-3-shopeefood.csv', 'crawling-3-syopifud.csv', 'crawling-4-shopeefood.csv', 'crawling-4-syopifud.csv', 'crawling-5-shopeefood.csv', 'crawling-5-syopifud.csv', 'crawling-6-shopeefood.csv']\n",
    "\n",
    "list_of_dataframes = ['Created_At', 'Tweets']\n",
    "for filename in csv_file_list:\n",
    "    list_of_dataframes.append(pd.read_csv(filename))\n",
    "\n",
    "merged_df = pd.concat(list_of_dataframes)"
   ]
  }
 ],
 "metadata": {
  "kernelspec": {
   "display_name": "Python 3 (ipykernel)",
   "language": "python",
   "name": "python3"
  },
  "language_info": {
   "codemirror_mode": {
    "name": "ipython",
    "version": 3
   },
   "file_extension": ".py",
   "mimetype": "text/x-python",
   "name": "python",
   "nbconvert_exporter": "python",
   "pygments_lexer": "ipython3",
   "version": "3.9.7"
  }
 },
 "nbformat": 4,
 "nbformat_minor": 5
}
