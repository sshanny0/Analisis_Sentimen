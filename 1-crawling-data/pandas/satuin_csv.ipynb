{
 "cells": [
  {
   "cell_type": "code",
   "execution_count": 6,
   "id": "c9b25bbd",
   "metadata": {},
   "outputs": [],
   "source": [
    "import pandas as pd\n",
    "import csv"
   ]
  },
  {
   "cell_type": "code",
   "execution_count": 7,
   "id": "7b0fe9c8",
   "metadata": {},
   "outputs": [],
   "source": [
    "df = pd.concat(map(pd.read_csv, ['crawling-1-shopeefood.csv', 'crawling-1-syopifud.csv', 'crawling-2-shopeefood.csv', 'crawling-2-syopifud.csv', 'crawling-3-shopeefood.csv', 'crawling-3-syopifud.csv', 'crawling-4-shopeefood.csv', 'crawling-4-syopifud.csv', 'crawling-5-shopeefood.csv', 'crawling-5-syopifud.csv', 'crawling-6-shopeefood.csv']))"
   ]
  },
  {
   "cell_type": "code",
   "execution_count": 8,
   "id": "7402924c",
   "metadata": {},
   "outputs": [
    {
     "data": {
      "text/html": [
       "<div>\n",
       "<style scoped>\n",
       "    .dataframe tbody tr th:only-of-type {\n",
       "        vertical-align: middle;\n",
       "    }\n",
       "\n",
       "    .dataframe tbody tr th {\n",
       "        vertical-align: top;\n",
       "    }\n",
       "\n",
       "    .dataframe thead th {\n",
       "        text-align: right;\n",
       "    }\n",
       "</style>\n",
       "<table border=\"1\" class=\"dataframe\">\n",
       "  <thead>\n",
       "    <tr style=\"text-align: right;\">\n",
       "      <th></th>\n",
       "      <th>Unnamed: 0</th>\n",
       "      <th>Created_At</th>\n",
       "      <th>Tweets</th>\n",
       "    </tr>\n",
       "  </thead>\n",
       "  <tbody>\n",
       "    <tr>\n",
       "      <th>0</th>\n",
       "      <td>0</td>\n",
       "      <td>2021-10-23 09:28:10+00:00</td>\n",
       "      <td>shopeefood ini ga bisa ngasih tip buat driver ...</td>\n",
       "    </tr>\n",
       "    <tr>\n",
       "      <th>1</th>\n",
       "      <td>1306</td>\n",
       "      <td>2021-10-23 09:20:37+00:00</td>\n",
       "      <td>jangan ujan woyy shopeefood gua belom sampe 😭</td>\n",
       "    </tr>\n",
       "    <tr>\n",
       "      <th>2</th>\n",
       "      <td>1307</td>\n",
       "      <td>2021-10-23 09:20:00+00:00</td>\n",
       "      <td>Gw masih kepikiran that random cheesecake I fo...</td>\n",
       "    </tr>\n",
       "    <tr>\n",
       "      <th>3</th>\n",
       "      <td>1308</td>\n",
       "      <td>2021-10-23 09:13:06+00:00</td>\n",
       "      <td>@urlovelymeow Coba cek di shopeefood</td>\n",
       "    </tr>\n",
       "    <tr>\n",
       "      <th>4</th>\n",
       "      <td>1309</td>\n",
       "      <td>2021-10-23 09:08:42+00:00</td>\n",
       "      <td>@wannayuuu @bdngfess Sok kirim aja kalo mau mh...</td>\n",
       "    </tr>\n",
       "    <tr>\n",
       "      <th>...</th>\n",
       "      <td>...</td>\n",
       "      <td>...</td>\n",
       "      <td>...</td>\n",
       "    </tr>\n",
       "    <tr>\n",
       "      <th>1995</th>\n",
       "      <td>1995</td>\n",
       "      <td>2021-11-08 12:46:12+00:00</td>\n",
       "      <td>Makan Gratis Bareng Teman di ShopeeFood https:...</td>\n",
       "    </tr>\n",
       "    <tr>\n",
       "      <th>1996</th>\n",
       "      <td>1996</td>\n",
       "      <td>2021-11-08 12:45:58+00:00</td>\n",
       "      <td>Geh! Aku mau daftarin ayahku di shopeefood as ...</td>\n",
       "    </tr>\n",
       "    <tr>\n",
       "      <th>1997</th>\n",
       "      <td>1997</td>\n",
       "      <td>2021-11-08 12:41:30+00:00</td>\n",
       "      <td>alhamdulillah di rancaekek udh ada shopeefood</td>\n",
       "    </tr>\n",
       "    <tr>\n",
       "      <th>1998</th>\n",
       "      <td>1998</td>\n",
       "      <td>2021-11-08 12:39:19+00:00</td>\n",
       "      <td>Makan Gratis Bareng Teman di ShopeeFood https:...</td>\n",
       "    </tr>\n",
       "    <tr>\n",
       "      <th>1999</th>\n",
       "      <td>1999</td>\n",
       "      <td>2021-11-08 12:34:32+00:00</td>\n",
       "      <td>@RacunBelanja https://t.co/siFXa9KDnE\\n\\nLumay...</td>\n",
       "    </tr>\n",
       "  </tbody>\n",
       "</table>\n",
       "<p>5508 rows × 3 columns</p>\n",
       "</div>"
      ],
      "text/plain": [
       "      Unnamed: 0                 Created_At  \\\n",
       "0              0  2021-10-23 09:28:10+00:00   \n",
       "1           1306  2021-10-23 09:20:37+00:00   \n",
       "2           1307  2021-10-23 09:20:00+00:00   \n",
       "3           1308  2021-10-23 09:13:06+00:00   \n",
       "4           1309  2021-10-23 09:08:42+00:00   \n",
       "...          ...                        ...   \n",
       "1995        1995  2021-11-08 12:46:12+00:00   \n",
       "1996        1996  2021-11-08 12:45:58+00:00   \n",
       "1997        1997  2021-11-08 12:41:30+00:00   \n",
       "1998        1998  2021-11-08 12:39:19+00:00   \n",
       "1999        1999  2021-11-08 12:34:32+00:00   \n",
       "\n",
       "                                                 Tweets  \n",
       "0     shopeefood ini ga bisa ngasih tip buat driver ...  \n",
       "1         jangan ujan woyy shopeefood gua belom sampe 😭  \n",
       "2     Gw masih kepikiran that random cheesecake I fo...  \n",
       "3                  @urlovelymeow Coba cek di shopeefood  \n",
       "4     @wannayuuu @bdngfess Sok kirim aja kalo mau mh...  \n",
       "...                                                 ...  \n",
       "1995  Makan Gratis Bareng Teman di ShopeeFood https:...  \n",
       "1996  Geh! Aku mau daftarin ayahku di shopeefood as ...  \n",
       "1997      alhamdulillah di rancaekek udh ada shopeefood  \n",
       "1998  Makan Gratis Bareng Teman di ShopeeFood https:...  \n",
       "1999  @RacunBelanja https://t.co/siFXa9KDnE\\n\\nLumay...  \n",
       "\n",
       "[5508 rows x 3 columns]"
      ]
     },
     "execution_count": 8,
     "metadata": {},
     "output_type": "execute_result"
    }
   ],
   "source": [
    "df"
   ]
  },
  {
   "cell_type": "code",
   "execution_count": 9,
   "id": "129eb3da",
   "metadata": {},
   "outputs": [],
   "source": [
    "df.to_csv('crawling-semua.csv')"
   ]
  },
  {
   "cell_type": "code",
   "execution_count": null,
   "id": "2c1f0cd3",
   "metadata": {},
   "outputs": [],
   "source": []
  }
 ],
 "metadata": {
  "kernelspec": {
   "display_name": "Python 3 (ipykernel)",
   "language": "python",
   "name": "python3"
  },
  "language_info": {
   "codemirror_mode": {
    "name": "ipython",
    "version": 3
   },
   "file_extension": ".py",
   "mimetype": "text/x-python",
   "name": "python",
   "nbconvert_exporter": "python",
   "pygments_lexer": "ipython3",
   "version": "3.9.7"
  }
 },
 "nbformat": 4,
 "nbformat_minor": 5
}
