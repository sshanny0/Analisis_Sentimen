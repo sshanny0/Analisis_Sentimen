{
 "cells": [
  {
   "cell_type": "code",
   "execution_count": 1,
   "id": "d3c06e22",
   "metadata": {},
   "outputs": [],
   "source": [
    "import nltk\n",
    "import pandas as pd \n",
    "import numpy as np\n",
    "import string\n",
    "import re"
   ]
  },
  {
   "cell_type": "code",
   "execution_count": 2,
   "id": "91cfa848",
   "metadata": {},
   "outputs": [],
   "source": [
    "df = pd.read_csv('contoh.csv')"
   ]
  },
  {
   "cell_type": "code",
   "execution_count": 3,
   "id": "5140f0cb",
   "metadata": {},
   "outputs": [
    {
     "data": {
      "text/html": [
       "<div>\n",
       "<style scoped>\n",
       "    .dataframe tbody tr th:only-of-type {\n",
       "        vertical-align: middle;\n",
       "    }\n",
       "\n",
       "    .dataframe tbody tr th {\n",
       "        vertical-align: top;\n",
       "    }\n",
       "\n",
       "    .dataframe thead th {\n",
       "        text-align: right;\n",
       "    }\n",
       "</style>\n",
       "<table border=\"1\" class=\"dataframe\">\n",
       "  <thead>\n",
       "    <tr style=\"text-align: right;\">\n",
       "      <th></th>\n",
       "      <th>Tweets</th>\n",
       "    </tr>\n",
       "  </thead>\n",
       "  <tbody>\n",
       "    <tr>\n",
       "      <th>0</th>\n",
       "      <td>Baru semalam membahas betapa Search di beberap...</td>\n",
       "    </tr>\n",
       "  </tbody>\n",
       "</table>\n",
       "</div>"
      ],
      "text/plain": [
       "                                              Tweets\n",
       "0  Baru semalam membahas betapa Search di beberap..."
      ]
     },
     "execution_count": 3,
     "metadata": {},
     "output_type": "execute_result"
    }
   ],
   "source": [
    "df"
   ]
  },
  {
   "cell_type": "code",
   "execution_count": 4,
   "id": "77156cfa",
   "metadata": {},
   "outputs": [],
   "source": [
    "def case_fold(tweet):\n",
    "    tweet = tweet.lower()\n",
    "    return tweet"
   ]
  },
  {
   "cell_type": "code",
   "execution_count": 12,
   "id": "5c67d284",
   "metadata": {},
   "outputs": [],
   "source": [
    "def remove(tweet):\n",
    "    #remove angka\n",
    "    tweet = re.sub('[0-9]+', '', tweet)\n",
    "    \n",
    "    # remove tab, new line, ans back slice\n",
    "    tweet = tweet.replace('\\\\t',\" \").replace('\\\\n',\" \").replace('\\\\u',\" \").replace('\\\\',\"\")\n",
    " \n",
    "    # remove non ASCII (emoticon, chinese word, .etc)\n",
    "    tweet = tweet.encode('ascii', 'replace').decode('ascii')\n",
    "    \n",
    "    # remove mention, link, hashtag\n",
    "    tweet = ' '.join(re.sub(\"([@#][A-Za-z0-9]+)|(\\w+:\\/\\/\\S+)\",\" \", tweet).split())\n",
    "\n",
    "    # remove hashtags\n",
    "    # only removing the hash # sign from the word\n",
    "    tweet = re.sub(r'#', '', tweet)\n",
    "    \n",
    "    #remove punctuation\n",
    "    tweet = tweet.translate(str.maketrans(\"\",\"\",string.punctuation))\n",
    "    \n",
    "    #remove whitespace leading & trailing\n",
    "    tweet = tweet.strip()\n",
    "    \n",
    "    #remove multiple whitespace into single whitespace\n",
    "    tweet = re.sub('\\s+',' ',tweet)\n",
    "\n",
    "    return tweet\n",
    "\n",
    "df[\"Filtering\"] = df[\"Case_Folding\"].apply(remove)"
   ]
  },
  {
   "cell_type": "code",
   "execution_count": 18,
   "id": "0d383c58",
   "metadata": {},
   "outputs": [],
   "source": [
    "from nltk.corpus import stopwords\n",
    "stop_words=stopwords.words('indonesian')\n",
    "stop_words.extend([\"yg\", \"dg\", \"dgn\", \"ny\", \"d\", 'klo', \n",
    "                       'kalo', 'amp', 'biar', 'bikin', 'bilang', \n",
    "                       'gak', 'ga', 'krn', 'nya', 'nih', 'sih', \n",
    "                       'si', 'tau', 'tdk', 'tuh', 'utk', 'ya', \n",
    "                       'jd', 'jgn', 'sdh', 'aja', 'n', 't', \n",
    "                       'nyg', 'hehe', 'pen', 'u', 'nan', 'loh',\n",
    "                       '&amp', 'yah', 'id'])\n",
    "\n",
    "df['without_stopwords'] = df['Filtering'].apply(lambda x: ' '.join([word for word in x.split() if word not in (stop_words)]))"
   ]
  },
  {
   "cell_type": "code",
   "execution_count": 19,
   "id": "dfecdf0c",
   "metadata": {},
   "outputs": [],
   "source": [
    "df.to_csv('contoh.csv')"
   ]
  },
  {
   "cell_type": "code",
   "execution_count": 20,
   "id": "25da001a",
   "metadata": {},
   "outputs": [],
   "source": [
    "from nltk.tokenize import word_tokenize\n",
    "\n",
    "df['Tokenizing'] = df['without_stopwords'].apply(word_tokenize)"
   ]
  },
  {
   "cell_type": "code",
   "execution_count": 21,
   "id": "2d208932",
   "metadata": {},
   "outputs": [
    {
     "data": {
      "text/html": [
       "<div>\n",
       "<style scoped>\n",
       "    .dataframe tbody tr th:only-of-type {\n",
       "        vertical-align: middle;\n",
       "    }\n",
       "\n",
       "    .dataframe tbody tr th {\n",
       "        vertical-align: top;\n",
       "    }\n",
       "\n",
       "    .dataframe thead th {\n",
       "        text-align: right;\n",
       "    }\n",
       "</style>\n",
       "<table border=\"1\" class=\"dataframe\">\n",
       "  <thead>\n",
       "    <tr style=\"text-align: right;\">\n",
       "      <th></th>\n",
       "      <th>Tweets</th>\n",
       "      <th>Case_Folding</th>\n",
       "      <th>Filtering</th>\n",
       "      <th>without_stopwords</th>\n",
       "      <th>Tokenizing</th>\n",
       "    </tr>\n",
       "  </thead>\n",
       "  <tbody>\n",
       "    <tr>\n",
       "      <th>0</th>\n",
       "      <td>Baru semalam membahas betapa Search di beberap...</td>\n",
       "      <td>baru semalam membahas betapa search di beberap...</td>\n",
       "      <td>baru semalam membahas betapa search di beberap...</td>\n",
       "      <td>semalam membahas betapa search aplikasi bagus ...</td>\n",
       "      <td>[semalam, membahas, betapa, search, aplikasi, ...</td>\n",
       "    </tr>\n",
       "  </tbody>\n",
       "</table>\n",
       "</div>"
      ],
      "text/plain": [
       "                                              Tweets  \\\n",
       "0  Baru semalam membahas betapa Search di beberap...   \n",
       "\n",
       "                                        Case_Folding  \\\n",
       "0  baru semalam membahas betapa search di beberap...   \n",
       "\n",
       "                                           Filtering  \\\n",
       "0  baru semalam membahas betapa search di beberap...   \n",
       "\n",
       "                                   without_stopwords  \\\n",
       "0  semalam membahas betapa search aplikasi bagus ...   \n",
       "\n",
       "                                          Tokenizing  \n",
       "0  [semalam, membahas, betapa, search, aplikasi, ...  "
      ]
     },
     "execution_count": 21,
     "metadata": {},
     "output_type": "execute_result"
    }
   ],
   "source": [
    "df"
   ]
  },
  {
   "cell_type": "code",
   "execution_count": 24,
   "id": "12ccc358",
   "metadata": {},
   "outputs": [],
   "source": [
    "import Sastrawi\n",
    "import numpy as np\n",
    "\n",
    "from Sastrawi.Stemmer.StemmerFactory import StemmerFactory\n",
    "\n",
    "factory = StemmerFactory()\n",
    "stemmer = factory.create_stemmer()\n",
    "\n",
    "df['Stemmed'] = df['without_stopwords'].apply(lambda x : ([stemmer.stem(y) for y in x.split()]))"
   ]
  },
  {
   "cell_type": "code",
   "execution_count": 26,
   "id": "d573a89c",
   "metadata": {},
   "outputs": [],
   "source": [
    "df.to_csv('contoh.csv')"
   ]
  },
  {
   "cell_type": "code",
   "execution_count": 28,
   "id": "acd383e2",
   "metadata": {},
   "outputs": [
    {
     "data": {
      "text/html": [
       "<div>\n",
       "<style scoped>\n",
       "    .dataframe tbody tr th:only-of-type {\n",
       "        vertical-align: middle;\n",
       "    }\n",
       "\n",
       "    .dataframe tbody tr th {\n",
       "        vertical-align: top;\n",
       "    }\n",
       "\n",
       "    .dataframe thead th {\n",
       "        text-align: right;\n",
       "    }\n",
       "</style>\n",
       "<table border=\"1\" class=\"dataframe\">\n",
       "  <thead>\n",
       "    <tr style=\"text-align: right;\">\n",
       "      <th></th>\n",
       "      <th>Tweets</th>\n",
       "      <th>Case_Folding</th>\n",
       "      <th>Filtering</th>\n",
       "      <th>without_stopwords</th>\n",
       "      <th>Tokenizing</th>\n",
       "      <th>Stemmed</th>\n",
       "    </tr>\n",
       "  </thead>\n",
       "  <tbody>\n",
       "    <tr>\n",
       "      <th>0</th>\n",
       "      <td>Baru semalam membahas betapa Search di beberap...</td>\n",
       "      <td>baru semalam membahas betapa search di beberap...</td>\n",
       "      <td>baru semalam membahas betapa search di beberap...</td>\n",
       "      <td>semalam membahas betapa search aplikasi bagus ...</td>\n",
       "      <td>[semalam, membahas, betapa, search, aplikasi, ...</td>\n",
       "      <td>[malam, bahas, betapa, search, aplikasi, bagus...</td>\n",
       "    </tr>\n",
       "  </tbody>\n",
       "</table>\n",
       "</div>"
      ],
      "text/plain": [
       "                                              Tweets  \\\n",
       "0  Baru semalam membahas betapa Search di beberap...   \n",
       "\n",
       "                                        Case_Folding  \\\n",
       "0  baru semalam membahas betapa search di beberap...   \n",
       "\n",
       "                                           Filtering  \\\n",
       "0  baru semalam membahas betapa search di beberap...   \n",
       "\n",
       "                                   without_stopwords  \\\n",
       "0  semalam membahas betapa search aplikasi bagus ...   \n",
       "\n",
       "                                          Tokenizing  \\\n",
       "0  [semalam, membahas, betapa, search, aplikasi, ...   \n",
       "\n",
       "                                             Stemmed  \n",
       "0  [malam, bahas, betapa, search, aplikasi, bagus...  "
      ]
     },
     "execution_count": 28,
     "metadata": {},
     "output_type": "execute_result"
    }
   ],
   "source": [
    "df"
   ]
  },
  {
   "cell_type": "code",
   "execution_count": 29,
   "id": "c67b7ad6",
   "metadata": {},
   "outputs": [],
   "source": [
    "import seaborn as sns\n",
    "import matplotlib.pyplot as plt\n",
    "\n",
    "from wordcloud import WordCloud\n",
    "\n",
    "word_dict = {}\n",
    "for i in range(0,len(df['without_stopwords'])):\n",
    "    sentence = df['without_stopwords'][i]\n",
    "    word_token = word_tokenize(sentence)\n",
    "    for j in word_token:\n",
    "        if j not in word_dict:\n",
    "            word_dict[j] = 1\n",
    "        else:\n",
    "            word_dict[j] += 1"
   ]
  },
  {
   "cell_type": "code",
   "execution_count": 30,
   "id": "d5200f6c",
   "metadata": {},
   "outputs": [],
   "source": [
    "negasi = ['bukan','tidak','ga','gk']\n",
    "lexicon = pd.read_csv('biar tenang/data_coba/full_lexicon.csv')\n",
    "lexicon = lexicon.drop(lexicon[(lexicon['word'] == 'bukan')\n",
    "                               |(lexicon['word'] == 'tidak')\n",
    "                               |(lexicon['word'] == 'ga')|(lexicon['word'] == 'gk') ].index,axis=0)\n",
    "lexicon = lexicon.reset_index(drop=True)"
   ]
  },
  {
   "cell_type": "code",
   "execution_count": 31,
   "id": "0c65c6bd",
   "metadata": {},
   "outputs": [
    {
     "data": {
      "text/plain": [
       "7"
      ]
     },
     "execution_count": 31,
     "metadata": {},
     "output_type": "execute_result"
    }
   ],
   "source": [
    "lexicon_word = lexicon['word'].to_list()\n",
    "lexicon_num_words = lexicon['number_of_words']\n",
    "\n",
    "ns_words = []\n",
    "factory = StemmerFactory()\n",
    "stemmer = factory.create_stemmer()\n",
    "for word in word_dict.keys():\n",
    "    if word not in lexicon_word:\n",
    "        kata_dasar = stemmer.stem(word)\n",
    "        if kata_dasar not in lexicon_word:\n",
    "            ns_words.append(word)\n",
    "len(ns_words)"
   ]
  },
  {
   "cell_type": "code",
   "execution_count": 32,
   "id": "66144060",
   "metadata": {},
   "outputs": [],
   "source": [
    "sencol =[]\n",
    "senrow =np.array([])\n",
    "nsen = 0\n",
    "\n",
    "sentiment_list = []\n",
    "# function to write the word's sentiment if it is founded\n",
    "def found_word(ind,words,word,sen,sencol,sentiment,add):\n",
    "    # if it is already included in the bag of words matrix, then just increase the value\n",
    "    if word in sencol:\n",
    "        sen[sencol.index(word)] += 1\n",
    "    else:\n",
    "    #if not, than add new word\n",
    "        sencol.append(word)\n",
    "        sen.append(1)\n",
    "        add += 1\n",
    "    #if there is a negation word before it, the sentiment would be the negation of it's sentiment\n",
    "    if (words[ind-1] in negasi):\n",
    "        sentiment += -lexicon['weight'][lexicon_word.index(word)]\n",
    "    else:\n",
    "        sentiment += lexicon['weight'][lexicon_word.index(word)]\n",
    "    \n",
    "    return sen,sencol,sentiment,add\n",
    "            \n",
    "# checking every words, if they are appear in the lexicon, and then calculate their sentiment if they do\n",
    "for i in range(len(df)):\n",
    "    nsen = senrow.shape[0]\n",
    "    words = word_tokenize(df['without_stopwords'][i])\n",
    "    sentiment = 0 \n",
    "    add = 0\n",
    "    prev = [0 for ii in range(len(words))]\n",
    "    n_words = len(words)\n",
    "    if len(sencol)>0:\n",
    "        sen =[0 for j in range(len(sencol))]\n",
    "    else:\n",
    "        sen =[]\n",
    "    \n",
    "    for word in words:\n",
    "        ind = words.index(word)\n",
    "        # check whether they are included in the lexicon\n",
    "        if word in lexicon_word :\n",
    "            sen,sencol,sentiment,add= found_word(ind,words,word,sen,sencol,sentiment,add)\n",
    "        else:\n",
    "        # if not, then check the root word\n",
    "            kata_dasar = stemmer.stem(word)\n",
    "            if kata_dasar in lexicon_word:\n",
    "                sen,sencol,sentiment,add= found_word(ind,words,kata_dasar,sen,sencol,sentiment,add)\n",
    "        # if still negative, try to match the combination of words with the adjacent words\n",
    "            elif(n_words>1):\n",
    "                if ind-1>-1:\n",
    "                    back_1    = words[ind-1]+' '+word\n",
    "                    if (back_1 in lexicon_word):\n",
    "                        sen,sencol,sentiment,add= found_word(ind,words,back_1,sen,sencol,sentiment,add)\n",
    "                    elif(ind-2>-1):\n",
    "                        back_2    = words[ind-2]+' '+back_1\n",
    "                        if back_2 in lexicon_word:\n",
    "                            sen,sencol,sentiment,add= found_word(ind,words,back_2,sen,sencol,sentiment,add)\n",
    "    # if there is new word founded, then expand the matrix\n",
    "    if add>0:  \n",
    "        if i>0:\n",
    "            if (nsen==0):\n",
    "                senrow = np.zeros([i,add],dtype=int)\n",
    "            elif(i!=nsen):\n",
    "                padding_h = np.zeros([nsen,add],dtype=int)\n",
    "                senrow = np.hstack((senrow,padding_h))\n",
    "                padding_v = np.zeros([(i-nsen),senrow.shape[1]],dtype=int)\n",
    "                senrow = np.vstack((senrow,padding_v))\n",
    "            else:\n",
    "                padding =np.zeros([nsen,add],dtype=int)\n",
    "                senrow = np.hstack((senrow,padding))\n",
    "            senrow = np.vstack((senrow,sen))\n",
    "        if i==0:\n",
    "            senrow = np.array(sen).reshape(1,len(sen))\n",
    "    # if there isn't then just update the old matrix\n",
    "    elif(nsen>0):\n",
    "        senrow = np.vstack((senrow,sen))\n",
    "        \n",
    "    sentiment_list.append(sentiment)"
   ]
  },
  {
   "cell_type": "code",
   "execution_count": 33,
   "id": "f5452e08",
   "metadata": {},
   "outputs": [
    {
     "data": {
      "text/html": [
       "<div>\n",
       "<style scoped>\n",
       "    .dataframe tbody tr th:only-of-type {\n",
       "        vertical-align: middle;\n",
       "    }\n",
       "\n",
       "    .dataframe tbody tr th {\n",
       "        vertical-align: top;\n",
       "    }\n",
       "\n",
       "    .dataframe thead th {\n",
       "        text-align: right;\n",
       "    }\n",
       "</style>\n",
       "<table border=\"1\" class=\"dataframe\">\n",
       "  <thead>\n",
       "    <tr style=\"text-align: right;\">\n",
       "      <th></th>\n",
       "      <th>malam</th>\n",
       "      <th>membahas</th>\n",
       "      <th>betapa</th>\n",
       "      <th>aplikasi</th>\n",
       "      <th>bagus</th>\n",
       "      <th>menyebut</th>\n",
       "      <th>terdekat</th>\n",
       "      <th>great</th>\n",
       "      <th>tim</th>\n",
       "      <th>sentiment</th>\n",
       "    </tr>\n",
       "  </thead>\n",
       "  <tbody>\n",
       "    <tr>\n",
       "      <th>0</th>\n",
       "      <td>1</td>\n",
       "      <td>1</td>\n",
       "      <td>1</td>\n",
       "      <td>1</td>\n",
       "      <td>1</td>\n",
       "      <td>1</td>\n",
       "      <td>1</td>\n",
       "      <td>1</td>\n",
       "      <td>1</td>\n",
       "      <td>5</td>\n",
       "    </tr>\n",
       "  </tbody>\n",
       "</table>\n",
       "</div>"
      ],
      "text/plain": [
       "   malam  membahas  betapa  aplikasi  bagus  menyebut  terdekat  great  tim  \\\n",
       "0      1         1       1         1      1         1         1      1    1   \n",
       "\n",
       "   sentiment  \n",
       "0          5  "
      ]
     },
     "execution_count": 33,
     "metadata": {},
     "output_type": "execute_result"
    }
   ],
   "source": [
    "sencol.append('sentiment')\n",
    "sentiment_array = np.array(sentiment_list).reshape(senrow.shape[0],1)\n",
    "sentiment_data = np.hstack((senrow,sentiment_array))\n",
    "df_sen = pd.DataFrame(sentiment_data,columns = sencol)\n",
    "df_sen"
   ]
  },
  {
   "cell_type": "code",
   "execution_count": 35,
   "id": "1901069d",
   "metadata": {},
   "outputs": [
    {
     "data": {
      "text/html": [
       "<div>\n",
       "<style scoped>\n",
       "    .dataframe tbody tr th:only-of-type {\n",
       "        vertical-align: middle;\n",
       "    }\n",
       "\n",
       "    .dataframe tbody tr th {\n",
       "        vertical-align: top;\n",
       "    }\n",
       "\n",
       "    .dataframe thead th {\n",
       "        text-align: right;\n",
       "    }\n",
       "</style>\n",
       "<table border=\"1\" class=\"dataframe\">\n",
       "  <thead>\n",
       "    <tr style=\"text-align: right;\">\n",
       "      <th></th>\n",
       "      <th>text</th>\n",
       "      <th>sentiment</th>\n",
       "    </tr>\n",
       "  </thead>\n",
       "  <tbody>\n",
       "    <tr>\n",
       "      <th>0</th>\n",
       "      <td>semalam membahas betapa search aplikasi bagus ...</td>\n",
       "      <td>5</td>\n",
       "    </tr>\n",
       "  </tbody>\n",
       "</table>\n",
       "</div>"
      ],
      "text/plain": [
       "                                                text  sentiment\n",
       "0  semalam membahas betapa search aplikasi bagus ...          5"
      ]
     },
     "execution_count": 35,
     "metadata": {},
     "output_type": "execute_result"
    }
   ],
   "source": [
    "cek_df = pd.DataFrame([])\n",
    "cek_df['text'] = df['without_stopwords'].copy()\n",
    "cek_df['sentiment']  = df_sen['sentiment'].copy()\n",
    "\n",
    "cek_df"
   ]
  },
  {
   "cell_type": "code",
   "execution_count": 37,
   "id": "03ef7375",
   "metadata": {},
   "outputs": [
    {
     "data": {
      "text/plain": [
       "positif    1\n",
       "Name: label, dtype: int64"
      ]
     },
     "execution_count": 37,
     "metadata": {},
     "output_type": "execute_result"
    }
   ],
   "source": [
    "df['sentiment'] = df_sen['sentiment']\n",
    "df.loc[df['sentiment'] == 0, 'label'] = 'netral'\n",
    "df.loc[df['sentiment'] > 0, 'label'] = 'positif'\n",
    "df.loc[df['sentiment'] < 0, 'label'] = 'negatif'\n",
    "df['label'].value_counts()"
   ]
  },
  {
   "cell_type": "code",
   "execution_count": 38,
   "id": "a1a08926",
   "metadata": {},
   "outputs": [
    {
     "data": {
      "text/html": [
       "<div>\n",
       "<style scoped>\n",
       "    .dataframe tbody tr th:only-of-type {\n",
       "        vertical-align: middle;\n",
       "    }\n",
       "\n",
       "    .dataframe tbody tr th {\n",
       "        vertical-align: top;\n",
       "    }\n",
       "\n",
       "    .dataframe thead th {\n",
       "        text-align: right;\n",
       "    }\n",
       "</style>\n",
       "<table border=\"1\" class=\"dataframe\">\n",
       "  <thead>\n",
       "    <tr style=\"text-align: right;\">\n",
       "      <th></th>\n",
       "      <th>Tweets</th>\n",
       "      <th>Case_Folding</th>\n",
       "      <th>Filtering</th>\n",
       "      <th>without_stopwords</th>\n",
       "      <th>Tokenizing</th>\n",
       "      <th>Stemmed</th>\n",
       "      <th>sentiment</th>\n",
       "      <th>label</th>\n",
       "    </tr>\n",
       "  </thead>\n",
       "  <tbody>\n",
       "    <tr>\n",
       "      <th>0</th>\n",
       "      <td>Baru semalam membahas betapa Search di beberap...</td>\n",
       "      <td>baru semalam membahas betapa search di beberap...</td>\n",
       "      <td>baru semalam membahas betapa search di beberap...</td>\n",
       "      <td>semalam membahas betapa search aplikasi bagus ...</td>\n",
       "      <td>[semalam, membahas, betapa, search, aplikasi, ...</td>\n",
       "      <td>[malam, bahas, betapa, search, aplikasi, bagus...</td>\n",
       "      <td>5</td>\n",
       "      <td>positif</td>\n",
       "    </tr>\n",
       "  </tbody>\n",
       "</table>\n",
       "</div>"
      ],
      "text/plain": [
       "                                              Tweets  \\\n",
       "0  Baru semalam membahas betapa Search di beberap...   \n",
       "\n",
       "                                        Case_Folding  \\\n",
       "0  baru semalam membahas betapa search di beberap...   \n",
       "\n",
       "                                           Filtering  \\\n",
       "0  baru semalam membahas betapa search di beberap...   \n",
       "\n",
       "                                   without_stopwords  \\\n",
       "0  semalam membahas betapa search aplikasi bagus ...   \n",
       "\n",
       "                                          Tokenizing  \\\n",
       "0  [semalam, membahas, betapa, search, aplikasi, ...   \n",
       "\n",
       "                                             Stemmed  sentiment    label  \n",
       "0  [malam, bahas, betapa, search, aplikasi, bagus...          5  positif  "
      ]
     },
     "execution_count": 38,
     "metadata": {},
     "output_type": "execute_result"
    }
   ],
   "source": [
    "df"
   ]
  },
  {
   "cell_type": "code",
   "execution_count": null,
   "id": "d2b1da6e",
   "metadata": {},
   "outputs": [],
   "source": []
  }
 ],
 "metadata": {
  "kernelspec": {
   "display_name": "Python 3 (ipykernel)",
   "language": "python",
   "name": "python3"
  },
  "language_info": {
   "codemirror_mode": {
    "name": "ipython",
    "version": 3
   },
   "file_extension": ".py",
   "mimetype": "text/x-python",
   "name": "python",
   "nbconvert_exporter": "python",
   "pygments_lexer": "ipython3",
   "version": "3.9.7"
  }
 },
 "nbformat": 4,
 "nbformat_minor": 5
}
