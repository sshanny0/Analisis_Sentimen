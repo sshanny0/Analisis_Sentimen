{
 "cells": [
  {
   "cell_type": "code",
   "execution_count": 21,
   "id": "c6da5547",
   "metadata": {},
   "outputs": [],
   "source": [
    "import pandas as pd\n",
    "import time\n",
    "import re\n",
    "import os\n",
    "import csv\n",
    "import json\n",
    "from urllib.request import urlopen\n",
    "from urllib.parse import quote_plus\n",
    "from bs4 import BeautifulSoup\n",
    "from selenium import webdriver"
   ]
  },
  {
   "cell_type": "code",
   "execution_count": 22,
   "id": "04ff5bd7",
   "metadata": {},
   "outputs": [],
   "source": [
    "driver = webdriver.Chrome()\n",
    "# link to the post you want to scrap comments from (This is Kim Kardashian's Instagram URL)\n",
    "url = \"https://www.instagram.com/p/CXIvMTWrxpC/\"\n",
    "# Driver will access to the URL\n",
    "driver.get(url)"
   ]
  },
  {
   "cell_type": "code",
   "execution_count": 14,
   "id": "ff379517",
   "metadata": {},
   "outputs": [],
   "source": [
    "comments = []\n",
    "\n",
    "hasLoadMore = True\n",
    "while hasLoadMore:\n",
    "    time.sleep(1)\n",
    "    try:\n",
    "        if driver.find_element_css_selector('#react-root > section > main > div > div > article > div.eo2As > div.EtaWk > ul > li > div > button > span'):\n",
    "            driver.find_element_css_selector('#react-root > section > main > div > div > article > div.eo2As > div.EtaWk > ul > li > div > button > span').click()\n",
    "    except:\n",
    "        hasLoadMore = False"
   ]
  },
  {
   "cell_type": "code",
   "execution_count": 18,
   "id": "b463f4ab",
   "metadata": {},
   "outputs": [
    {
     "name": "stderr",
     "output_type": "stream",
     "text": [
      "C:\\Users\\HP\\AppData\\Local\\Temp/ipykernel_1492/1039857116.py:2: DeprecationWarning: find_elements_by_* commands are deprecated. Please use find_elements() instead\n",
      "  users = driver.find_elements_by_class_name('sqdOP yWX7d     _8A5w5   ZIAjV')\n",
      "C:\\Users\\HP\\AppData\\Local\\Temp/ipykernel_1492/1039857116.py:8: DeprecationWarning: find_elements_by_* commands are deprecated. Please use find_elements() instead\n",
      "  texts = driver.find_elements_by_css_selector('#react-root > section > main > div > div > article > div.eo2As > div.EtaWk > ul > ul > div > li > div > div > div.C4VMK > span')\n"
     ]
    }
   ],
   "source": [
    "users_list = []\n",
    "users = driver.find_elements_by_class_name('sqdOP yWX7d     _8A5w5   ZIAjV')\n",
    "for user in users:\n",
    "    users_list.append(user.text)\n",
    "    \n",
    "i = 0\n",
    "texts_list = []\n",
    "texts = driver.find_elements_by_css_selector('#react-root > section > main > div > div > article > div.eo2As > div.EtaWk > ul > ul > div > li > div > div > div.C4VMK > span')\n",
    "for txt in texts:\n",
    "    texts_list.append(txt.text)\n",
    "    i += 1\n",
    "\n",
    "comments_count = len(users_list)\n",
    "\n",
    "for i in range(1, comments_count):\n",
    "    user = users_list[i]\n",
    "    text = texts_list[i]\n",
    "    comments.append(users_list[i])\n",
    "    comments.append(texts_list[i])\n",
    "    print(\"User \",user)\n",
    "    print(\"Text \",text)\n",
    "    print()"
   ]
  },
  {
   "cell_type": "code",
   "execution_count": 20,
   "id": "1267fd0a",
   "metadata": {},
   "outputs": [
    {
     "name": "stdout",
     "output_type": "stream",
     "text": [
      "Empty DataFrame\n",
      "Columns: [User, Text]\n",
      "Index: []\n"
     ]
    }
   ],
   "source": [
    "rows = []\n",
    "for user, text in zip(comments[::2], comments[1::2]):\n",
    "    print(user, text)\n",
    "    rows.append([user, text])\n",
    "fields = [\"User\", \"Text\"]\n",
    "filename = \"cleanfile.csv\"\n",
    "with open(filename, 'w',  encoding='utf-8', newline='') as csvfile: \n",
    "    csvwriter = csv.writer(csvfile) \n",
    "    csvwriter.writerow(fields) \n",
    "    csvwriter.writerows(rows)\n",
    "df = pd.read_csv(r\"cleanfile.csv\")\n",
    "print(df)"
   ]
  },
  {
   "cell_type": "code",
   "execution_count": null,
   "id": "540a1910",
   "metadata": {},
   "outputs": [],
   "source": []
  }
 ],
 "metadata": {
  "kernelspec": {
   "display_name": "Python 3 (ipykernel)",
   "language": "python",
   "name": "python3"
  },
  "language_info": {
   "codemirror_mode": {
    "name": "ipython",
    "version": 3
   },
   "file_extension": ".py",
   "mimetype": "text/x-python",
   "name": "python",
   "nbconvert_exporter": "python",
   "pygments_lexer": "ipython3",
   "version": "3.9.7"
  }
 },
 "nbformat": 4,
 "nbformat_minor": 5
}
