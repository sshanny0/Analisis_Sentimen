{
 "cells": [
  {
   "cell_type": "code",
   "execution_count": 3,
   "id": "06e77587",
   "metadata": {},
   "outputs": [],
   "source": [
    "from selenium import webdriver\n",
    "from selenium.webdriver.common.keys import Keys\n",
    "from selenium.webdriver.support.ui import WebDriverWait\n",
    "from selenium.webdriver.common.by import By\n",
    "from selenium.webdriver.support import expected_conditions as EC\n",
    "import time\n",
    "import pandas as pd\n",
    "from pandas import ExcelWriter\n",
    "import os.path"
   ]
  },
  {
   "cell_type": "code",
   "execution_count": 4,
   "id": "12e5e3fc",
   "metadata": {},
   "outputs": [],
   "source": [
    "driver = webdriver.Chrome()\n",
    "\n",
    "url='https://www.instagram.com/accounts/login/'\n",
    "driver.get(url)\n",
    "usernameInput='30.03pm'\n",
    "passwordInput='idontgivemajams'\n",
    "username=WebDriverWait(driver, 20).until(EC.element_to_be_clickable((By.XPATH, \"//input[@name='username']\"))) .send_keys(usernameInput)\n",
    "password=WebDriverWait(driver, 20).until(EC.element_to_be_clickable((By.XPATH, \"//input[@name='password']\"))).send_keys(passwordInput)\n",
    "WebDriverWait(driver, 20).until(EC.element_to_be_clickable((By.XPATH, \"//input[@name='password']\"))).send_keys(Keys.ENTER)\n",
    "time.sleep(15)\n",
    "driver.get('https://www.instagram.com/p/CXFdPjDvAhl/')"
   ]
  },
  {
   "cell_type": "code",
   "execution_count": 15,
   "id": "c3bbef72",
   "metadata": {},
   "outputs": [],
   "source": [
    "try:\n",
    "    load_more_comment= WebDriverWait(driver,20).until(EC.element_to_be_clickable((By.XPATH,'//*[@id=\"react-root\"]/section/main/div/div/article/div[2]/div[1]/ul/li/div/button')))\n",
    "    i = 0\n",
    "    while load_more_comment.is_displayed(True) and i < 24:\n",
    "        load_more_comment.click()\n",
    "        i += 1\n",
    "        time.sleep(3)\n",
    "except:\n",
    "    pass"
   ]
  },
  {
   "cell_type": "code",
   "execution_count": 16,
   "id": "02b1934a",
   "metadata": {},
   "outputs": [
    {
     "name": "stderr",
     "output_type": "stream",
     "text": [
      "C:\\Users\\HP\\AppData\\Local\\Temp/ipykernel_8672/2733374900.py:3: DeprecationWarning: find_elements_by_* commands are deprecated. Please use find_elements() instead\n",
      "  comment = driver.find_elements_by_class_name('gElp9 ')\n"
     ]
    },
    {
     "ename": "NameError",
     "evalue": "name 'temp_nama' is not defined",
     "output_type": "error",
     "traceback": [
      "\u001b[1;31m---------------------------------------------------------------------------\u001b[0m",
      "\u001b[1;31mNameError\u001b[0m                                 Traceback (most recent call last)",
      "\u001b[1;32m~\\AppData\\Local\\Temp/ipykernel_8672/2733374900.py\u001b[0m in \u001b[0;36m<module>\u001b[1;34m\u001b[0m\n\u001b[0;32m      9\u001b[0m     \u001b[0musername\u001b[0m\u001b[1;33m.\u001b[0m\u001b[0mappend\u001b[0m\u001b[1;33m(\u001b[0m\u001b[0mname\u001b[0m\u001b[1;33m)\u001b[0m\u001b[1;33m\u001b[0m\u001b[1;33m\u001b[0m\u001b[0m\n\u001b[0;32m     10\u001b[0m     \u001b[0mcomments\u001b[0m\u001b[1;33m.\u001b[0m\u001b[0mappend\u001b[0m\u001b[1;33m(\u001b[0m\u001b[0mkomentar\u001b[0m\u001b[1;33m)\u001b[0m\u001b[1;33m\u001b[0m\u001b[1;33m\u001b[0m\u001b[0m\n\u001b[1;32m---> 11\u001b[1;33m \u001b[0mfile_save\u001b[0m\u001b[1;33m(\u001b[0m\u001b[0musername\u001b[0m\u001b[1;33m,\u001b[0m \u001b[0mcomments\u001b[0m\u001b[1;33m)\u001b[0m\u001b[1;33m\u001b[0m\u001b[1;33m\u001b[0m\u001b[0m\n\u001b[0m",
      "\u001b[1;32m~\\AppData\\Local\\Temp/ipykernel_8672/1861132503.py\u001b[0m in \u001b[0;36mfile_save\u001b[1;34m(username, comments)\u001b[0m\n\u001b[0;32m      8\u001b[0m         \u001b[0mtemp_names\u001b[0m\u001b[1;33m.\u001b[0m\u001b[0mextend\u001b[0m\u001b[1;33m(\u001b[0m\u001b[0msaved\u001b[0m\u001b[1;33m[\u001b[0m\u001b[1;34m'nama'\u001b[0m\u001b[1;33m]\u001b[0m\u001b[1;33m)\u001b[0m\u001b[1;33m\u001b[0m\u001b[1;33m\u001b[0m\u001b[0m\n\u001b[0;32m      9\u001b[0m         \u001b[0mtemp_comments\u001b[0m\u001b[1;33m.\u001b[0m\u001b[0mextend\u001b[0m\u001b[1;33m(\u001b[0m\u001b[0msaved\u001b[0m\u001b[1;33m[\u001b[0m\u001b[1;34m'content'\u001b[0m\u001b[1;33m]\u001b[0m\u001b[1;33m)\u001b[0m\u001b[1;33m\u001b[0m\u001b[1;33m\u001b[0m\u001b[0m\n\u001b[1;32m---> 10\u001b[1;33m     \u001b[0mtemp_nama\u001b[0m\u001b[1;33m.\u001b[0m\u001b[0mextend\u001b[0m\u001b[1;33m(\u001b[0m\u001b[0mnama\u001b[0m\u001b[1;33m)\u001b[0m\u001b[1;33m\u001b[0m\u001b[1;33m\u001b[0m\u001b[0m\n\u001b[0m\u001b[0;32m     11\u001b[0m     \u001b[0mtemp_content\u001b[0m\u001b[1;33m.\u001b[0m\u001b[0mextend\u001b[0m\u001b[1;33m(\u001b[0m\u001b[0mcontent\u001b[0m\u001b[1;33m)\u001b[0m\u001b[1;33m\u001b[0m\u001b[1;33m\u001b[0m\u001b[0m\n\u001b[0;32m     12\u001b[0m     \u001b[0mtemp\u001b[0m\u001b[1;33m.\u001b[0m\u001b[0mupdate\u001b[0m\u001b[1;33m(\u001b[0m\u001b[1;33m{\u001b[0m\u001b[1;34m'name'\u001b[0m\u001b[1;33m:\u001b[0m \u001b[0mtemp_nama\u001b[0m\u001b[1;33m,\u001b[0m \u001b[1;34m'comment'\u001b[0m\u001b[1;33m:\u001b[0m \u001b[0mtemp_content\u001b[0m\u001b[1;33m}\u001b[0m\u001b[1;33m)\u001b[0m\u001b[1;33m\u001b[0m\u001b[1;33m\u001b[0m\u001b[0m\n",
      "\u001b[1;31mNameError\u001b[0m: name 'temp_nama' is not defined"
     ]
    }
   ],
   "source": [
    "username = []\n",
    "comments = []\n",
    "comment = driver.find_elements_by_class_name('gElp9 ')\n",
    "for c in comment:\n",
    "    container = c.find_element_by_class_name('C4VMK')\n",
    "    name = container.find_element_by_class_name('_6lAjh').text\n",
    "    komentar = container.find_element_by_tag_name('span').text\n",
    "    komentar = content.replace('\\n', ' ').strip().rstrip()\n",
    "    username.append(name)\n",
    "    comments.append(komentar)\n",
    "file_save(username, comments)"
   ]
  },
  {
   "cell_type": "code",
   "execution_count": 9,
   "id": "88a6a349",
   "metadata": {},
   "outputs": [],
   "source": [
    "def file_save(username, comments):\n",
    "    fname = 'coba-1.xlsx'\n",
    "    temp = {}\n",
    "    temp_names = []\n",
    "    temp_comments = []\n",
    "    if os.path.isfile(fname):\n",
    "        saved = pd.read_excel(fname)\n",
    "        temp_names.extend(saved['nama'])\n",
    "        temp_comments.extend(saved['content'])\n",
    "    temp_nama.extend(nama)\n",
    "    temp_content.extend(content)\n",
    "    temp.update({'name': temp_nama, 'comment': temp_content})\n",
    "    df = pd.DataFrame(temp)\n",
    "    writer = ExcelWriter(fname)\n",
    "    writer.save()\n",
    "    \n",
    "    return file_save"
   ]
  },
  {
   "cell_type": "code",
   "execution_count": 20,
   "id": "1ed86585",
   "metadata": {},
   "outputs": [
    {
     "ename": "NameError",
     "evalue": "name 'writer' is not defined",
     "output_type": "error",
     "traceback": [
      "\u001b[1;31m---------------------------------------------------------------------------\u001b[0m",
      "\u001b[1;31mNameError\u001b[0m                                 Traceback (most recent call last)",
      "\u001b[1;32m~\\AppData\\Local\\Temp/ipykernel_1332/374610271.py\u001b[0m in \u001b[0;36m<module>\u001b[1;34m\u001b[0m\n\u001b[1;32m----> 1\u001b[1;33m \u001b[0mwriter\u001b[0m\u001b[1;33m\u001b[0m\u001b[1;33m\u001b[0m\u001b[0m\n\u001b[0m",
      "\u001b[1;31mNameError\u001b[0m: name 'writer' is not defined"
     ]
    }
   ],
   "source": [
    "def file_save\n",
    "df = pd.DataFrame(data=data, columns=['data'])"
   ]
  },
  {
   "cell_type": "code",
   "execution_count": null,
   "id": "24b558e6",
   "metadata": {},
   "outputs": [],
   "source": []
  }
 ],
 "metadata": {
  "kernelspec": {
   "display_name": "Python 3 (ipykernel)",
   "language": "python",
   "name": "python3"
  },
  "language_info": {
   "codemirror_mode": {
    "name": "ipython",
    "version": 3
   },
   "file_extension": ".py",
   "mimetype": "text/x-python",
   "name": "python",
   "nbconvert_exporter": "python",
   "pygments_lexer": "ipython3",
   "version": "3.9.7"
  }
 },
 "nbformat": 4,
 "nbformat_minor": 5
}
