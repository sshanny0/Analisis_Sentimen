{
 "cells": [
  {
   "cell_type": "code",
   "execution_count": 1,
   "id": "7cd96142",
   "metadata": {},
   "outputs": [],
   "source": [
    "import facebook\n",
    "import requests\n",
    "import numpy as np\n",
    "import pandas as pd\n",
    "import re"
   ]
  },
  {
   "cell_type": "code",
   "execution_count": 2,
   "id": "ea65135a",
   "metadata": {},
   "outputs": [],
   "source": [
    "access_token = \"EAAJebUgcUMcBAGCjCmokU4YhoWlVmNtfeo5hGzR47LX5vQhWkx9RqRZAw6awZCbKpuVgJ19mB7IFdcpx7748HdcNqgvk63JNZCLhk2ZCeQ9aziZCb7PmMq4hpXXIcGu5BMV51OlnsdcDDdhoDy6D8SnVMZBDfjC1IfYu1OlG0lhtPxhO5phTt9ZC7CXVZBOEpxZBYZAQsS5Snv1wZDZD\""
   ]
  },
  {
   "cell_type": "code",
   "execution_count": 25,
   "id": "997beb3e",
   "metadata": {},
   "outputs": [],
   "source": [
    "graph = facebook.GraphAPI(access_token, version=\"2.10\")"
   ]
  },
  {
   "cell_type": "code",
   "execution_count": 51,
   "id": "fc7716f1",
   "metadata": {},
   "outputs": [],
   "source": [
    "data = requests.get(\"https://graph.facebook.com/pages/search?q=shopeefood&fields=id,name,location,link&access_token={EAAJebUgcUMcBAGCjCmokU4YhoWlVmNtfeo5hGzR47LX5vQhWkx9RqRZAw6awZCbKpuVgJ19mB7IFdcpx7748HdcNqgvk63JNZCLhk2ZCeQ9aziZCb7PmMq4hpXXIcGu5BMV51OlnsdcDDdhoDy6D8SnVMZBDfjC1IfYu1OlG0lhtPxhO5phTt9ZC7CXVZBOEpxZBYZAQsS5Snv1wZDZD}\"  + access_token)"
   ]
  },
  {
   "cell_type": "code",
   "execution_count": 52,
   "id": "b94e3566",
   "metadata": {},
   "outputs": [
    {
     "data": {
      "text/plain": [
       "<Response [400]>"
      ]
     },
     "execution_count": 52,
     "metadata": {},
     "output_type": "execute_result"
    }
   ],
   "source": [
    "data"
   ]
  },
  {
   "cell_type": "code",
   "execution_count": 55,
   "id": "56bdc8fe",
   "metadata": {},
   "outputs": [],
   "source": [
    "df = pd.DataFrame(data=data, columns=['data'])"
   ]
  },
  {
   "cell_type": "code",
   "execution_count": 56,
   "id": "4c7bfbc3",
   "metadata": {},
   "outputs": [
    {
     "data": {
      "text/html": [
       "<div>\n",
       "<style scoped>\n",
       "    .dataframe tbody tr th:only-of-type {\n",
       "        vertical-align: middle;\n",
       "    }\n",
       "\n",
       "    .dataframe tbody tr th {\n",
       "        vertical-align: top;\n",
       "    }\n",
       "\n",
       "    .dataframe thead th {\n",
       "        text-align: right;\n",
       "    }\n",
       "</style>\n",
       "<table border=\"1\" class=\"dataframe\">\n",
       "  <thead>\n",
       "    <tr style=\"text-align: right;\">\n",
       "      <th></th>\n",
       "      <th>data</th>\n",
       "    </tr>\n",
       "  </thead>\n",
       "  <tbody>\n",
       "    <tr>\n",
       "      <th>0</th>\n",
       "      <td>b'{\"error\":{\"message\":\"(#10) This endpoint req...</td>\n",
       "    </tr>\n",
       "    <tr>\n",
       "      <th>1</th>\n",
       "      <td>b\"ture or the 'Page Public Metadata Access' fe...</td>\n",
       "    </tr>\n",
       "    <tr>\n",
       "      <th>2</th>\n",
       "      <td>b'ions#manage-pages, https:\\\\/\\\\/developers.fa...</td>\n",
       "    </tr>\n",
       "    <tr>\n",
       "      <th>3</th>\n",
       "      <td>b's.facebook.com\\\\/docs\\\\/apps\\\\/review\\\\/feat...</td>\n",
       "    </tr>\n",
       "    <tr>\n",
       "      <th>4</th>\n",
       "      <td>b'_id\":\"AjbCSsiBY82_VD28Hk65lkL\"}}'</td>\n",
       "    </tr>\n",
       "  </tbody>\n",
       "</table>\n",
       "</div>"
      ],
      "text/plain": [
       "                                                data\n",
       "0  b'{\"error\":{\"message\":\"(#10) This endpoint req...\n",
       "1  b\"ture or the 'Page Public Metadata Access' fe...\n",
       "2  b'ions#manage-pages, https:\\\\/\\\\/developers.fa...\n",
       "3  b's.facebook.com\\\\/docs\\\\/apps\\\\/review\\\\/feat...\n",
       "4                b'_id\":\"AjbCSsiBY82_VD28Hk65lkL\"}}'"
      ]
     },
     "execution_count": 56,
     "metadata": {},
     "output_type": "execute_result"
    }
   ],
   "source": [
    "df"
   ]
  },
  {
   "cell_type": "code",
   "execution_count": 40,
   "id": "2826de8c",
   "metadata": {},
   "outputs": [
    {
     "ename": "GraphAPIError",
     "evalue": "Valid types are: place, placetopic",
     "output_type": "error",
     "traceback": [
      "\u001b[1;31m---------------------------------------------------------------------------\u001b[0m",
      "\u001b[1;31mGraphAPIError\u001b[0m                             Traceback (most recent call last)",
      "\u001b[1;32m~\\AppData\\Local\\Temp/ipykernel_9096/3335544469.py\u001b[0m in \u001b[0;36m<module>\u001b[1;34m\u001b[0m\n\u001b[0;32m      4\u001b[0m \u001b[1;33m\u001b[0m\u001b[0m\n\u001b[0;32m      5\u001b[0m \u001b[0mgraph\u001b[0m \u001b[1;33m=\u001b[0m \u001b[0mfacebook\u001b[0m\u001b[1;33m.\u001b[0m\u001b[0mGraphAPI\u001b[0m\u001b[1;33m(\u001b[0m\u001b[0maccess_token\u001b[0m\u001b[1;33m=\u001b[0m\u001b[0mTOKEN\u001b[0m\u001b[1;33m,\u001b[0m \u001b[0mversion\u001b[0m\u001b[1;33m=\u001b[0m\u001b[1;34m\"2.10\"\u001b[0m\u001b[1;33m)\u001b[0m\u001b[1;33m\u001b[0m\u001b[1;33m\u001b[0m\u001b[0m\n\u001b[1;32m----> 6\u001b[1;33m \u001b[0mposts\u001b[0m \u001b[1;33m=\u001b[0m \u001b[0mgraph\u001b[0m\u001b[1;33m.\u001b[0m\u001b[0msearch\u001b[0m\u001b[1;33m(\u001b[0m\u001b[0mq\u001b[0m\u001b[1;33m=\u001b[0m\u001b[1;34m\"aquafresh\"\u001b[0m\u001b[1;33m,\u001b[0m \u001b[0mtype\u001b[0m\u001b[1;33m=\u001b[0m\u001b[1;34m\"post\"\u001b[0m\u001b[1;33m)\u001b[0m\u001b[1;33m\u001b[0m\u001b[1;33m\u001b[0m\u001b[0m\n\u001b[0m\u001b[0;32m      7\u001b[0m \u001b[1;33m\u001b[0m\u001b[0m\n\u001b[0;32m      8\u001b[0m \u001b[0mprint\u001b[0m\u001b[1;33m(\u001b[0m\u001b[0mposts\u001b[0m\u001b[1;33m[\u001b[0m\u001b[1;34m'data'\u001b[0m\u001b[1;33m]\u001b[0m\u001b[1;33m)\u001b[0m\u001b[1;33m\u001b[0m\u001b[1;33m\u001b[0m\u001b[0m\n",
      "\u001b[1;32m~\\miniconda3\\lib\\site-packages\\facebook\\__init__.py\u001b[0m in \u001b[0;36msearch\u001b[1;34m(self, type, **args)\u001b[0m\n\u001b[0;32m    138\u001b[0m         \u001b[1;34m\"\"\"https://developers.facebook.com/docs/places/search\"\"\"\u001b[0m\u001b[1;33m\u001b[0m\u001b[1;33m\u001b[0m\u001b[0m\n\u001b[0;32m    139\u001b[0m         \u001b[1;32mif\u001b[0m \u001b[0mtype\u001b[0m \u001b[1;32mnot\u001b[0m \u001b[1;32min\u001b[0m \u001b[0mVALID_SEARCH_TYPES\u001b[0m\u001b[1;33m:\u001b[0m\u001b[1;33m\u001b[0m\u001b[1;33m\u001b[0m\u001b[0m\n\u001b[1;32m--> 140\u001b[1;33m             raise GraphAPIError(\n\u001b[0m\u001b[0;32m    141\u001b[0m                 \u001b[1;34m\"Valid types are: %s\"\u001b[0m \u001b[1;33m%\u001b[0m \u001b[1;34m\", \"\u001b[0m\u001b[1;33m.\u001b[0m\u001b[0mjoin\u001b[0m\u001b[1;33m(\u001b[0m\u001b[0mVALID_SEARCH_TYPES\u001b[0m\u001b[1;33m)\u001b[0m\u001b[1;33m\u001b[0m\u001b[1;33m\u001b[0m\u001b[0m\n\u001b[0;32m    142\u001b[0m             )\n",
      "\u001b[1;31mGraphAPIError\u001b[0m: Valid types are: place, placetopic"
     ]
    }
   ],
   "source": [
    "import facebook\n",
    "\n",
    "TOKEN = \"EAAJebUgcUMcBAGCjCmokU4YhoWlVmNtfeo5hGzR47LX5vQhWkx9RqRZAw6awZCbKpuVgJ19mB7IFdcpx7748HdcNqgvk63JNZCLhk2ZCeQ9aziZCb7PmMq4hpXXIcGu5BMV51OlnsdcDDdhoDy6D8SnVMZBDfjC1IfYu1OlG0lhtPxhO5phTt9ZC7CXVZBOEpxZBYZAQsS5Snv1wZDZD\"\n",
    "\n",
    "graph = facebook.GraphAPI(access_token=TOKEN, version=\"2.10\")\n",
    "posts = graph.search(q=\"aquafresh\", type=\"post\")\n",
    "\n",
    "print(posts['data'])"
   ]
  },
  {
   "cell_type": "code",
   "execution_count": 24,
   "id": "35493272",
   "metadata": {},
   "outputs": [
    {
     "ename": "GraphAPIError",
     "evalue": "Valid types are: place, placetopic",
     "output_type": "error",
     "traceback": [
      "\u001b[1;31m---------------------------------------------------------------------------\u001b[0m",
      "\u001b[1;31mGraphAPIError\u001b[0m                             Traceback (most recent call last)",
      "\u001b[1;32m~\\AppData\\Local\\Temp/ipykernel_9096/3152293400.py\u001b[0m in \u001b[0;36m<module>\u001b[1;34m\u001b[0m\n\u001b[1;32m----> 1\u001b[1;33m \u001b[0mposts\u001b[0m \u001b[1;33m=\u001b[0m \u001b[0mgraph\u001b[0m\u001b[1;33m.\u001b[0m\u001b[0msearch\u001b[0m\u001b[1;33m(\u001b[0m\u001b[0mq\u001b[0m\u001b[1;33m=\u001b[0m\u001b[1;34m\"aquafresh\"\u001b[0m\u001b[1;33m,\u001b[0m \u001b[0mtype\u001b[0m\u001b[1;33m=\u001b[0m\u001b[1;34m\"post\"\u001b[0m\u001b[1;33m)\u001b[0m\u001b[1;33m\u001b[0m\u001b[1;33m\u001b[0m\u001b[0m\n\u001b[0m\u001b[0;32m      2\u001b[0m \u001b[1;33m\u001b[0m\u001b[0m\n\u001b[0;32m      3\u001b[0m \u001b[0mprint\u001b[0m\u001b[1;33m(\u001b[0m\u001b[0mposts\u001b[0m\u001b[1;33m[\u001b[0m\u001b[1;34m'data'\u001b[0m\u001b[1;33m]\u001b[0m\u001b[1;33m)\u001b[0m\u001b[1;33m\u001b[0m\u001b[1;33m\u001b[0m\u001b[0m\n",
      "\u001b[1;32m~\\miniconda3\\lib\\site-packages\\facebook\\__init__.py\u001b[0m in \u001b[0;36msearch\u001b[1;34m(self, type, **args)\u001b[0m\n\u001b[0;32m    138\u001b[0m         \u001b[1;34m\"\"\"https://developers.facebook.com/docs/places/search\"\"\"\u001b[0m\u001b[1;33m\u001b[0m\u001b[1;33m\u001b[0m\u001b[0m\n\u001b[0;32m    139\u001b[0m         \u001b[1;32mif\u001b[0m \u001b[0mtype\u001b[0m \u001b[1;32mnot\u001b[0m \u001b[1;32min\u001b[0m \u001b[0mVALID_SEARCH_TYPES\u001b[0m\u001b[1;33m:\u001b[0m\u001b[1;33m\u001b[0m\u001b[1;33m\u001b[0m\u001b[0m\n\u001b[1;32m--> 140\u001b[1;33m             raise GraphAPIError(\n\u001b[0m\u001b[0;32m    141\u001b[0m                 \u001b[1;34m\"Valid types are: %s\"\u001b[0m \u001b[1;33m%\u001b[0m \u001b[1;34m\", \"\u001b[0m\u001b[1;33m.\u001b[0m\u001b[0mjoin\u001b[0m\u001b[1;33m(\u001b[0m\u001b[0mVALID_SEARCH_TYPES\u001b[0m\u001b[1;33m)\u001b[0m\u001b[1;33m\u001b[0m\u001b[1;33m\u001b[0m\u001b[0m\n\u001b[0;32m    142\u001b[0m             )\n",
      "\u001b[1;31mGraphAPIError\u001b[0m: Valid types are: place, placetopic"
     ]
    }
   ],
   "source": [
    "posts = graph.search(q=\"aquafresh\", type=\"post\")\n",
    "\n",
    "print(posts['data'])"
   ]
  },
  {
   "cell_type": "code",
   "execution_count": 21,
   "id": "464d7ac2",
   "metadata": {},
   "outputs": [
    {
     "ename": "TypeError",
     "evalue": "search() takes 2 positional arguments but 3 were given",
     "output_type": "error",
     "traceback": [
      "\u001b[1;31m---------------------------------------------------------------------------\u001b[0m",
      "\u001b[1;31mTypeError\u001b[0m                                 Traceback (most recent call last)",
      "\u001b[1;32m~\\AppData\\Local\\Temp/ipykernel_9096/3952689424.py\u001b[0m in \u001b[0;36m<module>\u001b[1;34m\u001b[0m\n\u001b[1;32m----> 1\u001b[1;33m \u001b[0mdata\u001b[0m \u001b[1;33m=\u001b[0m \u001b[0mgraph\u001b[0m\u001b[1;33m.\u001b[0m\u001b[0msearch\u001b[0m\u001b[1;33m(\u001b[0m\u001b[1;34m'search'\u001b[0m\u001b[1;33m,\u001b[0m \u001b[1;33m{\u001b[0m\u001b[1;34m'q'\u001b[0m\u001b[1;33m:\u001b[0m \u001b[1;34m'shopeefood'\u001b[0m\u001b[1;33m,\u001b[0m \u001b[1;34m'type'\u001b[0m\u001b[1;33m:\u001b[0m \u001b[1;34m'page'\u001b[0m\u001b[1;33m}\u001b[0m\u001b[1;33m)\u001b[0m\u001b[1;33m\u001b[0m\u001b[1;33m\u001b[0m\u001b[0m\n\u001b[0m",
      "\u001b[1;31mTypeError\u001b[0m: search() takes 2 positional arguments but 3 were given"
     ]
    }
   ],
   "source": [
    "data = graph.search('search', {'q': 'shopeefood', 'type': 'page'})"
   ]
  },
  {
   "cell_type": "code",
   "execution_count": 55,
   "id": "5b823c2b",
   "metadata": {},
   "outputs": [
    {
     "ename": "GraphAPIError",
     "evalue": "(#3) Application does not have the capability to make this API call.",
     "output_type": "error",
     "traceback": [
      "\u001b[1;31m---------------------------------------------------------------------------\u001b[0m",
      "\u001b[1;31mGraphAPIError\u001b[0m                             Traceback (most recent call last)",
      "\u001b[1;32m~\\AppData\\Local\\Temp/ipykernel_5480/2131576538.py\u001b[0m in \u001b[0;36m<module>\u001b[1;34m\u001b[0m\n\u001b[1;32m----> 1\u001b[1;33m \u001b[0mevents\u001b[0m \u001b[1;33m=\u001b[0m \u001b[0mgraph\u001b[0m\u001b[1;33m.\u001b[0m\u001b[0mrequest\u001b[0m\u001b[1;33m(\u001b[0m\u001b[1;34m\"/search?q=shopeefood&type=event&limit=100\"\u001b[0m\u001b[1;33m)\u001b[0m\u001b[1;33m\u001b[0m\u001b[1;33m\u001b[0m\u001b[0m\n\u001b[0m",
      "\u001b[1;32m~\\miniconda3\\lib\\site-packages\\facebook\\__init__.py\u001b[0m in \u001b[0;36mrequest\u001b[1;34m(self, path, args, post_args, files, method)\u001b[0m\n\u001b[0;32m    311\u001b[0m \u001b[1;33m\u001b[0m\u001b[0m\n\u001b[0;32m    312\u001b[0m         \u001b[1;32mif\u001b[0m \u001b[0mresult\u001b[0m \u001b[1;32mand\u001b[0m \u001b[0misinstance\u001b[0m\u001b[1;33m(\u001b[0m\u001b[0mresult\u001b[0m\u001b[1;33m,\u001b[0m \u001b[0mdict\u001b[0m\u001b[1;33m)\u001b[0m \u001b[1;32mand\u001b[0m \u001b[0mresult\u001b[0m\u001b[1;33m.\u001b[0m\u001b[0mget\u001b[0m\u001b[1;33m(\u001b[0m\u001b[1;34m\"error\"\u001b[0m\u001b[1;33m)\u001b[0m\u001b[1;33m:\u001b[0m\u001b[1;33m\u001b[0m\u001b[1;33m\u001b[0m\u001b[0m\n\u001b[1;32m--> 313\u001b[1;33m             \u001b[1;32mraise\u001b[0m \u001b[0mGraphAPIError\u001b[0m\u001b[1;33m(\u001b[0m\u001b[0mresult\u001b[0m\u001b[1;33m)\u001b[0m\u001b[1;33m\u001b[0m\u001b[1;33m\u001b[0m\u001b[0m\n\u001b[0m\u001b[0;32m    314\u001b[0m         \u001b[1;32mreturn\u001b[0m \u001b[0mresult\u001b[0m\u001b[1;33m\u001b[0m\u001b[1;33m\u001b[0m\u001b[0m\n\u001b[0;32m    315\u001b[0m \u001b[1;33m\u001b[0m\u001b[0m\n",
      "\u001b[1;31mGraphAPIError\u001b[0m: (#3) Application does not have the capability to make this API call."
     ]
    }
   ],
   "source": [
    "events = graph.request(\"/search?q=shopeefood&type=event&limit=100\")"
   ]
  },
  {
   "cell_type": "code",
   "execution_count": 9,
   "id": "07381f69",
   "metadata": {},
   "outputs": [],
   "source": [
    "corpus = []\n",
    "dataset = []"
   ]
  },
  {
   "cell_type": "code",
   "execution_count": 34,
   "id": "45fee9d6",
   "metadata": {},
   "outputs": [],
   "source": [
    "key = 'shopeefood'\n",
    "limit = 100\n",
    "req = \"/search?q=%s&type=page&limit=%s\"%(key, limit)"
   ]
  },
  {
   "cell_type": "code",
   "execution_count": 36,
   "id": "05dc1d47",
   "metadata": {},
   "outputs": [
    {
     "name": "stdout",
     "output_type": "stream",
     "text": [
      "[]\n"
     ]
    }
   ],
   "source": [
    "pages = graph.request(req)\n",
    "pagelist = pages['data']"
   ]
  },
  {
   "cell_type": "code",
   "execution_count": null,
   "id": "31220bca",
   "metadata": {},
   "outputs": [],
   "source": [
    "results = []\n",
    "\n",
    "for item in report:   \n",
    "    data = dict(item)\n",
    "    results.append(data)\n",
    "print(results)"
   ]
  },
  {
   "cell_type": "code",
   "execution_count": 27,
   "id": "8dd9c485",
   "metadata": {},
   "outputs": [],
   "source": [
    "for page in pagelist:\n",
    "    posts = graph.request('/%s/posts?%s'%(page['id'], limit))\n",
    "    postslist = posts['data']\n",
    "    for post in postslist:\n",
    "        comments = graph.request('/%s/comments?%s'%(post['id'], limit))\n",
    "        commentlist = comments['data']\n",
    "        for comment in commentlist:\n",
    "            print (comment ['message'])\n",
    "            comment_clean = comment ['message'].lower()\n",
    "            corpus.append(comment_clean)"
   ]
  },
  {
   "cell_type": "code",
   "execution_count": 28,
   "id": "23aef060",
   "metadata": {},
   "outputs": [
    {
     "name": "stdout",
     "output_type": "stream",
     "text": [
      "[]\n"
     ]
    }
   ],
   "source": [
    "print (corpus)"
   ]
  },
  {
   "cell_type": "code",
   "execution_count": null,
   "id": "bfc220ef",
   "metadata": {},
   "outputs": [],
   "source": []
  }
 ],
 "metadata": {
  "kernelspec": {
   "display_name": "Python 3 (ipykernel)",
   "language": "python",
   "name": "python3"
  },
  "language_info": {
   "codemirror_mode": {
    "name": "ipython",
    "version": 3
   },
   "file_extension": ".py",
   "mimetype": "text/x-python",
   "name": "python",
   "nbconvert_exporter": "python",
   "pygments_lexer": "ipython3",
   "version": "3.9.7"
  }
 },
 "nbformat": 4,
 "nbformat_minor": 5
}
