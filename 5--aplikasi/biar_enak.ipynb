{
 "cells": [
  {
   "cell_type": "code",
   "execution_count": 2,
   "id": "f6ea11a7",
   "metadata": {},
   "outputs": [],
   "source": [
    "import tweepy\n",
    "import csv\n",
    "import pandas as pd\n",
    "import numpy as np\n",
    "import string\n",
    "import re\n",
    "import nltk\n",
    "import Sastrawi\n",
    "import ast\n",
    "import os\n",
    "import seaborn as sns\n",
    "import matplotlib.pyplot as plt\n",
    "import sklearn\n",
    "\n",
    "from tweepy import OAuthHandler\n",
    "from nltk.corpus import stopwords\n",
    "from nltk.tokenize import word_tokenize\n",
    "from Sastrawi.Stemmer.StemmerFactory import StemmerFactory\n",
    "from wordcloud import WordCloud\n",
    "\n",
    "from sklearn.preprocessing import StandardScaler\n",
    "from sklearn.preprocessing import LabelEncoder\n",
    "from sklearn.model_selection import train_test_split\n",
    "from sklearn import svm\n",
    "from sklearn.svm import SVC\n",
    "from sklearn.model_selection import cross_val_score\n",
    "from sklearn.pipeline import make_pipeline\n",
    "from sklearn.metrics import confusion_matrix\n",
    "from sklearn import metrics, preprocessing\n",
    "from sklearn.metrics import classification_report\n",
    "from sklearn.feature_extraction.text import TfidfVectorizer\n",
    "from sklearn import model_selection"
   ]
  },
  {
   "cell_type": "code",
   "execution_count": 3,
   "id": "fd03b784",
   "metadata": {},
   "outputs": [],
   "source": [
    "import ipywidgets as widgets\n",
    "from ipywidgets import Output, Button\n",
    "from IPython.display import HTML, display, clear_output"
   ]
  },
  {
   "cell_type": "code",
   "execution_count": 31,
   "id": "e8ed0543",
   "metadata": {},
   "outputs": [],
   "source": [
    "api_key = \"qubRP6d5B5eCD3RHrgoMRkDjH\"\n",
    "api_secret_key = \"AJlk1MiHfXqnhByWtCf1Mbi2T9WGW08hoLkkDIbks4ztUpFx99\"\n",
    "access_token =\"3180202308-DmrgiSoxUUoSRevLLPldgCE57M0eD117K0mhFG5\"\n",
    "access_token_secret = \"fuY5Hkk838OnmGOZUb16KLkSDw3JZjflxXQ1NHP6pP9Jr\""
   ]
  },
  {
   "cell_type": "code",
   "execution_count": 32,
   "id": "fbf10881",
   "metadata": {},
   "outputs": [],
   "source": [
    "auth = tweepy.OAuthHandler(api_key, api_secret_key)\n",
    "auth.set_access_token(access_token, access_token_secret) \n",
    "API = tweepy.API(auth, wait_on_rate_limit = False)"
   ]
  },
  {
   "cell_type": "code",
   "execution_count": 41,
   "id": "11cd9b97",
   "metadata": {},
   "outputs": [],
   "source": [
    "query = widgets.Text(placeholder='Put keyword')"
   ]
  },
  {
   "cell_type": "code",
   "execution_count": 42,
   "id": "d4e3e442",
   "metadata": {},
   "outputs": [],
   "source": [
    "button_send = widgets.Button(\n",
    "                description='Search',\n",
    "                tooltip='Search',\n",
    "                style={'description_width': 'initial'}\n",
    "            )"
   ]
  },
  {
   "cell_type": "code",
   "execution_count": 43,
   "id": "533ec049",
   "metadata": {},
   "outputs": [],
   "source": [
    "posts = tweepy.Cursor(API.search_tweets, q=query, tweet_mode='extended',lang=\"id\").items(50)\n",
    "users = [[tweet.created_at, tweet.full_text] for tweet in posts]"
   ]
  },
  {
   "cell_type": "code",
   "execution_count": 44,
   "id": "10a77ccd",
   "metadata": {},
   "outputs": [],
   "source": [
    "df = pd.DataFrame(data=users, columns=['Created_At','Tweets'])"
   ]
  },
  {
   "cell_type": "code",
   "execution_count": 45,
   "id": "20088900",
   "metadata": {},
   "outputs": [],
   "source": [
    "output = widgets.Output()"
   ]
  },
  {
   "cell_type": "code",
   "execution_count": 46,
   "id": "91a1bf1f",
   "metadata": {},
   "outputs": [],
   "source": [
    "def on_button_clicked(event):\n",
    "    with output:\n",
    "        clear_output()\n",
    "        print(f\"{keyword.value}\")\n",
    "        print(df)\n",
    "\n",
    "button_send.on_click(on_button_clicked)\n",
    "\n",
    "vbox_result = widgets.VBox([button_send, output])"
   ]
  },
  {
   "cell_type": "code",
   "execution_count": 47,
   "id": "c0dab737",
   "metadata": {},
   "outputs": [],
   "source": [
    "text_0 = widgets.HTML(value=\"<h1>Hasilnya</h1>\")\n",
    "\n",
    "vbox_text = widgets.VBox([text_0, keyword, vbox_result])"
   ]
  },
  {
   "cell_type": "code",
   "execution_count": 48,
   "id": "d1a63eb2",
   "metadata": {},
   "outputs": [
    {
     "data": {
      "application/vnd.jupyter.widget-view+json": {
       "model_id": "4bede543f888479f8f495a7260b3725f",
       "version_major": 2,
       "version_minor": 0
      },
      "text/plain": [
       "HBox(children=(VBox(children=(HTML(value='<h1>Hasilnya</h1>'), Text(value='hai', placeholder='Put keyword'), V…"
      ]
     },
     "metadata": {},
     "output_type": "display_data"
    }
   ],
   "source": [
    "page = widgets.HBox([vbox_text])\n",
    "display(page)"
   ]
  },
  {
   "cell_type": "code",
   "execution_count": 4,
   "id": "6418a64d",
   "metadata": {},
   "outputs": [
    {
     "data": {
      "application/vnd.jupyter.widget-view+json": {
       "model_id": "f973fe7450704b129e84ab2c17483cf8",
       "version_major": 2,
       "version_minor": 0
      },
      "text/plain": [
       "Button(description='Click Me!', style=ButtonStyle())"
      ]
     },
     "metadata": {},
     "output_type": "display_data"
    },
    {
     "data": {
      "application/vnd.jupyter.widget-view+json": {
       "model_id": "d4905937e218413f9972188d43e1b32e",
       "version_major": 2,
       "version_minor": 0
      },
      "text/plain": [
       "Output()"
      ]
     },
     "metadata": {},
     "output_type": "display_data"
    }
   ],
   "source": [
    "from IPython.display import display\n",
    "button = widgets.Button(description=\"Click Me!\")\n",
    "output = widgets.Output()\n",
    "\n",
    "display(button, output)\n",
    "\n",
    "def on_button_clicked(b):\n",
    "    with output:\n",
    "        print(\"Button clicked.\")\n",
    "\n",
    "button.on_click(on_button_clicked)"
   ]
  },
  {
   "cell_type": "code",
   "execution_count": 5,
   "id": "74a95a3c",
   "metadata": {},
   "outputs": [
    {
     "data": {
      "application/vnd.jupyter.widget-view+json": {
       "model_id": "bf04cd5b52f64d0b8ddfef9be92d65f7",
       "version_major": 2,
       "version_minor": 0
      },
      "text/plain": [
       "Button(description='Click Me!', style=ButtonStyle())"
      ]
     },
     "metadata": {},
     "output_type": "display_data"
    }
   ],
   "source": [
    "import ipywidgets as widgets\n",
    "from IPython.display import display\n",
    "button = widgets.Button(description=\"Click Me!\")\n",
    "display(button)\n",
    "\n",
    "def fun(a):\n",
    "    print(a)\n",
    "\n",
    "def on_button_clicked(b):\n",
    "    fun('a')\n",
    "\n",
    "button.on_click(on_button_clicked)"
   ]
  },
  {
   "cell_type": "code",
   "execution_count": 6,
   "id": "28b79882",
   "metadata": {},
   "outputs": [
    {
     "data": {
      "application/vnd.jupyter.widget-view+json": {
       "model_id": "2951b6fe19d045cbabaaa13f21d93bd4",
       "version_major": 2,
       "version_minor": 0
      },
      "text/plain": [
       "Tab(children=(Text(value='', description='P0'), Text(value='', description='P1')), _titles={'0': '0', '1': '1'…"
      ]
     },
     "metadata": {},
     "output_type": "display_data"
    }
   ],
   "source": [
    "import ipywidgets as widgets\n",
    "\n",
    "tab_contents = ['P0', 'P1']\n",
    "children = [widgets.Text(description=name) for name in tab_contents]\n",
    "tab = widgets.Tab()\n",
    "tab.children = children\n",
    "for i in range(len(children)):\n",
    "    tab.set_title(i, str(i))\n",
    "\n",
    "def tab_toggle_var(*args):\n",
    "    global vartest\n",
    "    if tab.selected_index ==0:\n",
    "        vartest = 0\n",
    "    else:\n",
    "        vartest = 1\n",
    "tab.observe(tab_toggle_var)\n",
    "tab_toggle_var()\n",
    "display(tab)"
   ]
  },
  {
   "cell_type": "code",
   "execution_count": null,
   "id": "750fa005",
   "metadata": {},
   "outputs": [],
   "source": []
  }
 ],
 "metadata": {
  "kernelspec": {
   "display_name": "Python 3 (ipykernel)",
   "language": "python",
   "name": "python3"
  },
  "language_info": {
   "codemirror_mode": {
    "name": "ipython",
    "version": 3
   },
   "file_extension": ".py",
   "mimetype": "text/x-python",
   "name": "python",
   "nbconvert_exporter": "python",
   "pygments_lexer": "ipython3",
   "version": "3.9.7"
  }
 },
 "nbformat": 4,
 "nbformat_minor": 5
}
