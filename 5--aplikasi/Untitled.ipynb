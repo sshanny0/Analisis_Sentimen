{
 "cells": [
  {
   "cell_type": "code",
   "execution_count": 13,
   "id": "6c25029c",
   "metadata": {},
   "outputs": [],
   "source": [
    "import tweepy\n",
    "import csv\n",
    "import pandas as pd\n",
    "import numpy as np\n",
    "import string\n",
    "import re\n",
    "import nltk\n",
    "import Sastrawi\n",
    "import ast\n",
    "import os\n",
    "import seaborn as sns\n",
    "import matplotlib.pyplot as plt\n",
    "import sklearn\n",
    "\n",
    "from tweepy import OAuthHandler\n",
    "from nltk.corpus import stopwords\n",
    "from nltk.tokenize import word_tokenize\n",
    "from Sastrawi.Stemmer.StemmerFactory import StemmerFactory\n",
    "from wordcloud import WordCloud\n",
    "\n",
    "from sklearn.preprocessing import StandardScaler\n",
    "from sklearn.preprocessing import LabelEncoder\n",
    "from sklearn.model_selection import train_test_split\n",
    "from sklearn import svm\n",
    "from sklearn.svm import SVC\n",
    "from sklearn.model_selection import cross_val_score\n",
    "from sklearn.pipeline import make_pipeline\n",
    "from sklearn.metrics import confusion_matrix\n",
    "from sklearn import metrics, preprocessing\n",
    "from sklearn.metrics import classification_report\n",
    "from sklearn.feature_extraction.text import TfidfVectorizer\n",
    "from sklearn import model_selection"
   ]
  },
  {
   "cell_type": "code",
   "execution_count": 14,
   "id": "20e76209",
   "metadata": {},
   "outputs": [],
   "source": [
    "import ipywidgets as widgets\n",
    "from ipywidgets import Output, Button\n",
    "from IPython.display import HTML, display, clear_output"
   ]
  },
  {
   "cell_type": "code",
   "execution_count": 15,
   "id": "2844a8f6",
   "metadata": {},
   "outputs": [],
   "source": [
    "api_key = \"qubRP6d5B5eCD3RHrgoMRkDjH\"\n",
    "api_secret_key = \"AJlk1MiHfXqnhByWtCf1Mbi2T9WGW08hoLkkDIbks4ztUpFx99\"\n",
    "access_token =\"3180202308-DmrgiSoxUUoSRevLLPldgCE57M0eD117K0mhFG5\"\n",
    "access_token_secret = \"fuY5Hkk838OnmGOZUb16KLkSDw3JZjflxXQ1NHP6pP9Jr\""
   ]
  },
  {
   "cell_type": "code",
   "execution_count": 16,
   "id": "53e120f5",
   "metadata": {},
   "outputs": [],
   "source": [
    "auth = tweepy.OAuthHandler(api_key, api_secret_key)\n",
    "auth.set_access_token(access_token, access_token_secret) \n",
    "API = tweepy.API(auth, wait_on_rate_limit = False)"
   ]
  },
  {
   "cell_type": "code",
   "execution_count": 17,
   "id": "7f83d79a",
   "metadata": {},
   "outputs": [],
   "source": [
    "searchTerm = widgets.Text(\n",
    "    placeholder='Enter Keyword/Tag to search about:',\n",
    "    description='Keyword:',\n",
    "    disabled=False\n",
    ")"
   ]
  },
  {
   "cell_type": "code",
   "execution_count": 18,
   "id": "817ee4fd",
   "metadata": {},
   "outputs": [
    {
     "data": {
      "application/vnd.jupyter.widget-view+json": {
       "model_id": "aee52700c92d495480f82a6be2d80c77",
       "version_major": 2,
       "version_minor": 0
      },
      "text/plain": [
       "Text(value='', description='Keyword:', placeholder='Enter Keyword/Tag to search about:')"
      ]
     },
     "metadata": {},
     "output_type": "display_data"
    },
    {
     "data": {
      "application/vnd.jupyter.widget-view+json": {
       "model_id": "aee83ff40d9d4b8daf4f8ae319f69ca1",
       "version_major": 2,
       "version_minor": 0
      },
      "text/plain": [
       "Button(description='Search', style=ButtonStyle())"
      ]
     },
     "metadata": {},
     "output_type": "display_data"
    }
   ],
   "source": [
    "button = widgets.Button(description='Search')\n",
    "\n",
    "display(searchTerm, button)\n",
    "\n",
    "def add(a):\n",
    "    posts = tweepy.Cursor(API.search_tweets, q={searchTerm.value}, tweet_mode='extended',lang=\"id\").items(100)\n",
    "    users = [[tweet.created_at, tweet.full_text] for tweet in posts]\n",
    "    df = pd.DataFrame(data=users, columns=['Created_At','Tweets'])\n",
    "    print(df)\n",
    "\n",
    "button.on_click(add)"
   ]
  },
  {
   "cell_type": "code",
   "execution_count": 19,
   "id": "e11bad22",
   "metadata": {},
   "outputs": [
    {
     "data": {
      "text/html": [
       "<div>\n",
       "<style scoped>\n",
       "    .dataframe tbody tr th:only-of-type {\n",
       "        vertical-align: middle;\n",
       "    }\n",
       "\n",
       "    .dataframe tbody tr th {\n",
       "        vertical-align: top;\n",
       "    }\n",
       "\n",
       "    .dataframe thead th {\n",
       "        text-align: right;\n",
       "    }\n",
       "</style>\n",
       "<table border=\"1\" class=\"dataframe\">\n",
       "  <thead>\n",
       "    <tr style=\"text-align: right;\">\n",
       "      <th></th>\n",
       "      <th>Created_At</th>\n",
       "      <th>Tweets</th>\n",
       "    </tr>\n",
       "  </thead>\n",
       "  <tbody>\n",
       "    <tr>\n",
       "      <th>0</th>\n",
       "      <td>2021-11-20 10:08:06+00:00</td>\n",
       "      <td>@eanrdnsyh Kalau mau yang motif sajadah disini...</td>\n",
       "    </tr>\n",
       "    <tr>\n",
       "      <th>1</th>\n",
       "      <td>2021-11-20 10:08:06+00:00</td>\n",
       "      <td>RT @gookieforcha: HELP RT ‼️\\n\\n💸 Want To Sell...</td>\n",
       "    </tr>\n",
       "    <tr>\n",
       "      <th>2</th>\n",
       "      <td>2021-11-20 10:08:05+00:00</td>\n",
       "      <td>@ShopeeID Yg penting usaha dan doa. Amin\\n\\nSh...</td>\n",
       "    </tr>\n",
       "    <tr>\n",
       "      <th>3</th>\n",
       "      <td>2021-11-20 10:08:05+00:00</td>\n",
       "      <td>RT @tyraspberries: Ni i nak listkan makanan ya...</td>\n",
       "    </tr>\n",
       "    <tr>\n",
       "      <th>4</th>\n",
       "      <td>2021-11-20 10:08:05+00:00</td>\n",
       "      <td>RT @AinNazifa22: THREAD PURSE CANTIK &amp;amp; MUR...</td>\n",
       "    </tr>\n",
       "    <tr>\n",
       "      <th>...</th>\n",
       "      <td>...</td>\n",
       "      <td>...</td>\n",
       "    </tr>\n",
       "    <tr>\n",
       "      <th>95</th>\n",
       "      <td>2021-11-20 10:06:27+00:00</td>\n",
       "      <td>@ShopeeID Yg penting usaha dan doa. Amin\\n\\nSh...</td>\n",
       "    </tr>\n",
       "    <tr>\n",
       "      <th>96</th>\n",
       "      <td>2021-11-20 10:06:26+00:00</td>\n",
       "      <td>@imyourrss_ @ShopeeID BISMILLAH REZEKI GAK AKA...</td>\n",
       "    </tr>\n",
       "    <tr>\n",
       "      <th>97</th>\n",
       "      <td>2021-11-20 10:06:26+00:00</td>\n",
       "      <td>@ShopeeID Shopee 12.12 #1212ShopeeJackieChan #...</td>\n",
       "    </tr>\n",
       "    <tr>\n",
       "      <th>98</th>\n",
       "      <td>2021-11-20 10:06:25+00:00</td>\n",
       "      <td>@ShopeeID Bismillahirrahmanirrahim Shopee 12. ...</td>\n",
       "    </tr>\n",
       "    <tr>\n",
       "      <th>99</th>\n",
       "      <td>2021-11-20 10:06:24+00:00</td>\n",
       "      <td>@ShopeeID Yg penting usaha dan doa. Amin\\n\\nSh...</td>\n",
       "    </tr>\n",
       "  </tbody>\n",
       "</table>\n",
       "<p>100 rows × 2 columns</p>\n",
       "</div>"
      ],
      "text/plain": [
       "                  Created_At  \\\n",
       "0  2021-11-20 10:08:06+00:00   \n",
       "1  2021-11-20 10:08:06+00:00   \n",
       "2  2021-11-20 10:08:05+00:00   \n",
       "3  2021-11-20 10:08:05+00:00   \n",
       "4  2021-11-20 10:08:05+00:00   \n",
       "..                       ...   \n",
       "95 2021-11-20 10:06:27+00:00   \n",
       "96 2021-11-20 10:06:26+00:00   \n",
       "97 2021-11-20 10:06:26+00:00   \n",
       "98 2021-11-20 10:06:25+00:00   \n",
       "99 2021-11-20 10:06:24+00:00   \n",
       "\n",
       "                                               Tweets  \n",
       "0   @eanrdnsyh Kalau mau yang motif sajadah disini...  \n",
       "1   RT @gookieforcha: HELP RT ‼️\\n\\n💸 Want To Sell...  \n",
       "2   @ShopeeID Yg penting usaha dan doa. Amin\\n\\nSh...  \n",
       "3   RT @tyraspberries: Ni i nak listkan makanan ya...  \n",
       "4   RT @AinNazifa22: THREAD PURSE CANTIK &amp; MUR...  \n",
       "..                                                ...  \n",
       "95  @ShopeeID Yg penting usaha dan doa. Amin\\n\\nSh...  \n",
       "96  @imyourrss_ @ShopeeID BISMILLAH REZEKI GAK AKA...  \n",
       "97  @ShopeeID Shopee 12.12 #1212ShopeeJackieChan #...  \n",
       "98  @ShopeeID Bismillahirrahmanirrahim Shopee 12. ...  \n",
       "99  @ShopeeID Yg penting usaha dan doa. Amin\\n\\nSh...  \n",
       "\n",
       "[100 rows x 2 columns]"
      ]
     },
     "execution_count": 19,
     "metadata": {},
     "output_type": "execute_result"
    }
   ],
   "source": [
    "df"
   ]
  },
  {
   "cell_type": "code",
   "execution_count": null,
   "id": "b4a78f4f",
   "metadata": {},
   "outputs": [],
   "source": []
  }
 ],
 "metadata": {
  "kernelspec": {
   "display_name": "Python 3 (ipykernel)",
   "language": "python",
   "name": "python3"
  },
  "language_info": {
   "codemirror_mode": {
    "name": "ipython",
    "version": 3
   },
   "file_extension": ".py",
   "mimetype": "text/x-python",
   "name": "python",
   "nbconvert_exporter": "python",
   "pygments_lexer": "ipython3",
   "version": "3.9.7"
  }
 },
 "nbformat": 4,
 "nbformat_minor": 5
}
