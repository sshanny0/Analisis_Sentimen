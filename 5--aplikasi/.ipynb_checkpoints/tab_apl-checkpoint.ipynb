{
 "cells": [
  {
   "cell_type": "code",
   "execution_count": 1,
   "id": "ad0285a6",
   "metadata": {},
   "outputs": [],
   "source": [
    "import pandas as pd\n",
    "import sys\n",
    "from io import StringIO\n",
    "import numpy as np\n",
    "import matplotlib.pyplot as plt\n",
    "import ipywidgets as widgets\n",
    "\n",
    "%matplotlib inline\n",
    "tab = widgets.Tab()    \n",
    "out = widgets.Output(layout={'border': '1px solid black'})\n",
    "up = widgets.FileUpload(accept=\".csv\", multiple=False)\n",
    "delim = widgets.RadioButtons(\n",
    "    options=[';', ',', ' '],\n",
    "    description='Separator: ',\n",
    "    disabled=False)\n",
    "eraser = widgets.SelectMultiple(\n",
    "    options=['tab','\"'],\n",
    "    value=['tab'],\n",
    "    #rows=10,\n",
    "    description='Eraser: ',\n",
    "    disabled=False)\n",
    "rows = widgets.IntSlider(\n",
    "    value=0,\n",
    "    step=1,\n",
    "    description='# of lines:',\n",
    "    disabled=False,\n",
    "    continuous_update=False,\n",
    "    orientation='horizontal',\n",
    "    readout=True,\n",
    "    readout_format='d')\n",
    "button_upload = widgets.Button(\n",
    "    description='Upload',\n",
    "    disabled=False,\n",
    "    button_style='warning',\n",
    "    tooltip='Click to Upload',\n",
    "    icon='check')\n",
    "button_preview = widgets.Button(\n",
    "    description='Preview',\n",
    "    disabled=False,\n",
    "    button_style='info',\n",
    "    tooltip='Click to Preview',\n",
    "    icon='search')\n",
    "button_plot = widgets.Button(\n",
    "    description='Plot',\n",
    "    disabled=False,\n",
    "    button_style='danger',\n",
    "    tooltip='Click to Plot',\n",
    "    icon='pencil')\n",
    "\n",
    "toggle = widgets.ToggleButtons(\n",
    "    options=['Preview  ', 'Info  ', 'Stats  '],\n",
    "    description='Options',\n",
    "    disabled=False,\n",
    "    button_style='warning',\n",
    "    icons=['search', 'info', 'tachometer'])\n",
    "accordion = widgets.Accordion(children=[\n",
    "    up, \n",
    "    widgets.VBox([delim, eraser]), \n",
    "    rows])\n",
    "accordion.set_title(0, 'File Selection')\n",
    "accordion.set_title(1, 'Preprocessing')\n",
    "accordion.set_title(2, 'Skip Rows')\n",
    "accordion_box = widgets.VBox([\n",
    "    accordion, \n",
    "    widgets.HBox([button_preview, button_upload]),\n",
    "    out\n",
    "])"
   ]
  },
  {
   "cell_type": "code",
   "execution_count": 2,
   "id": "c036e482",
   "metadata": {},
   "outputs": [],
   "source": [
    "children = [\n",
    "    accordion_box, \n",
    "    widgets.VBox([toggle, out]),\n",
    "    widgets.VBox([\n",
    "        button_plot,\n",
    "        out\n",
    "])]\n",
    "tab.children = children\n",
    "tab.set_title(0, \"Upload\")\n",
    "tab.set_title(1, \"Describer\")\n",
    "tab.set_title(2, \"Plotter\")"
   ]
  },
  {
   "cell_type": "code",
   "execution_count": 12,
   "id": "add0527d",
   "metadata": {},
   "outputs": [],
   "source": [
    "def content_parser():\n",
    "    if up.value == {}:\n",
    "        with out:\n",
    "            print('No CSV loaded')    \n",
    "    else:\n",
    "        typ, content = \"\", \"\"\n",
    "        up_value = up.value\n",
    "        for i in up_value.keys():\n",
    "            typ = up_value[i]['metadata'][\"type\"]\n",
    "            if typ == \"csv\":\n",
    "                content = up_value[i][\"content\"]\n",
    "                content_str = str(content, 'utf-8')\n",
    "    \n",
    "            if eraser.value != {}: \n",
    "                for val in eraser.value:\n",
    "                    if val == \"tab\":\n",
    "                        content_str = content_str.lower()\n",
    "                    else:\n",
    "                        content_str = content_str.replace(val,\"\")\n",
    "            if content_str != \"\":\n",
    "                str_io = StringIO(content_str) \n",
    "                return str_io"
   ]
  },
  {
   "cell_type": "code",
   "execution_count": 13,
   "id": "e188edd9",
   "metadata": {},
   "outputs": [],
   "source": [
    "def remove(tweet):\n",
    "    \n",
    "    #case folding tweet\n",
    "    tweet = tweet.lower()\n",
    "    \n",
    "    #remove one char\n",
    "    tweet = re.sub(r\"\\b[a-zA-Z]\\b\", \"\", tweet)\n",
    "\n",
    "    #remove angka\n",
    "    tweet = re.sub('[0-9]+', '', tweet)\n",
    "    \n",
    "    # remove tab, new line, ans back slice\n",
    "    tweet = tweet.replace('\\\\t',\" \").replace('\\\\n',\" \").replace('\\\\u',\" \").replace('\\\\',\"\")\n",
    " \n",
    "    # remove non ASCII (emoticon, chinese word, .etc)\n",
    "    tweet = tweet.encode('ascii', 'replace').decode('ascii')\n",
    "    \n",
    "    # remove mention, link, hashtag\n",
    "    tweet = ' '.join(re.sub(\"([@#][A-Za-z0-9]+)|(\\w+:\\/\\/\\S+)\",\" \", tweet).split())\n",
    "\n",
    "    # remove hashtags\n",
    "    # only removing the hash # sign from the word\n",
    "    tweet = re.sub(r'#', '', tweet)\n",
    "    \n",
    "    #remove punctuation\n",
    "    tweet = tweet.translate(str.maketrans(\"\",\"\",string.punctuation))\n",
    "    \n",
    "    #remove whitespace leading & trailing\n",
    "    tweet = tweet.strip()\n",
    "    \n",
    "    #remove multiple whitespace into single whitespace\n",
    "    tweet = re.sub('\\s+',' ',tweet)\n",
    "\n",
    "    return tweet"
   ]
  },
  {
   "cell_type": "code",
   "execution_count": 4,
   "id": "b9cfceaa",
   "metadata": {},
   "outputs": [],
   "source": [
    "def df_converter():\n",
    "    content = content_parser()\n",
    "    if content is not None:\n",
    "        df = pd.read_csv(content, sep=delim.value, index_col=False, skiprows=rows.value)    \n",
    "        return df\n",
    "    else:\n",
    "        return None"
   ]
  },
  {
   "cell_type": "code",
   "execution_count": 5,
   "id": "bada05a4",
   "metadata": {},
   "outputs": [],
   "source": [
    "def preview():\n",
    "    df = df_converter()\n",
    "    with out:\n",
    "        out.clear_output()\n",
    "        print('\\n -----Now this is how your DF looks like:----- \\n')\n",
    "        if df is not None:\n",
    "            print(df.head(10))\n",
    "        else:\n",
    "            print('Configuration is wrong/missing...')"
   ]
  },
  {
   "cell_type": "code",
   "execution_count": 6,
   "id": "f7fc1a93",
   "metadata": {},
   "outputs": [],
   "source": [
    "def upload():\n",
    "    df = df_converter()\n",
    "    with out:\n",
    "        out.clear_output()\n",
    "        print('\\n --------Your uploaded DF looks like:-------- \\n')\n",
    "        if df is not None:\n",
    "            print(df)\n",
    "            x_axis.options = df.columns\n",
    "            y_axis.options = df.columns\n",
    "        else:\n",
    "            print('Configuration is wrong/missing...')"
   ]
  },
  {
   "cell_type": "code",
   "execution_count": 7,
   "id": "4b9bbf49",
   "metadata": {},
   "outputs": [],
   "source": [
    "def desc():\n",
    "    info_level = toggle.value\n",
    "    if info_level != {}:\n",
    "        df = df_converter()\n",
    "        with out:\n",
    "            out.clear_output()\n",
    "            print('\\n ------Your {} looks like:------ \\n'.format(info_level))\n",
    "            if df is not None:\n",
    "                if info_level == 'Info  ':\n",
    "                    print(df.info(verbose=True))\n",
    "                elif info_level == 'Stats  ':\n",
    "                    print(df.describe())\n",
    "                elif info_level == 'Preview  ':\n",
    "                    print(df.head(5))\n",
    "                else:\n",
    "                    print('Configuration is wrong/missing...')"
   ]
  },
  {
   "cell_type": "code",
   "execution_count": 8,
   "id": "fc871328",
   "metadata": {},
   "outputs": [],
   "source": [
    "def plot():\n",
    "        values = [31, 6, 13]\n",
    "        explode = [0, 0.1, 0]\n",
    "        labels = ['Positif', 'Negatif', 'Netral']\n",
    "        colors = ['brown', 'lightcoral', 'beige']\n",
    "        \n",
    "        def make_autopct(values):\n",
    "            def my_autopct(pct):\n",
    "                total  = sum(values)\n",
    "                val = int(round(pct*total/100.0))\n",
    "                return '{p:.2f}%({v:d})'.format(p=pct,v=val)\n",
    "            return my_autopct\n",
    "        \n",
    "        plt.pie(values, colors=colors, labels=labels, explode=explode,\n",
    "                autopct=make_autopct(values), shadow=True, startangle=90)\n",
    "        plt.legend()\n",
    "        plt.title(\"Hasil Feedback Pelayanan ShopeeFood\")\n",
    "        plt.show()"
   ]
  },
  {
   "cell_type": "code",
   "execution_count": 9,
   "id": "8e8021e5",
   "metadata": {},
   "outputs": [],
   "source": [
    "                \n",
    "def preview_clicked(b):\n",
    "    preview()\n",
    "def upload_clicked(b):\n",
    "    upload()\n",
    "def desc_clicked(b):\n",
    "    desc()\n",
    "def plotter_clicked(b):\n",
    "    plot()"
   ]
  },
  {
   "cell_type": "code",
   "execution_count": 10,
   "id": "a38f25a5",
   "metadata": {},
   "outputs": [],
   "source": [
    "button_preview.on_click(preview_clicked)\n",
    "button_upload.on_click(upload_clicked)\n",
    "toggle.observe(desc_clicked, 'value')\n",
    "button_plot.on_click(plotter_clicked)"
   ]
  },
  {
   "cell_type": "code",
   "execution_count": 11,
   "id": "7db0ec56",
   "metadata": {},
   "outputs": [
    {
     "data": {
      "application/vnd.jupyter.widget-view+json": {
       "model_id": "64956ef0c4e4425a9829ee18114908d3",
       "version_major": 2,
       "version_minor": 0
      },
      "text/plain": [
       "Tab(children=(VBox(children=(Accordion(children=(FileUpload(value={}, accept='.csv', description='Upload'), VB…"
      ]
     },
     "metadata": {},
     "output_type": "display_data"
    },
    {
     "ename": "UnboundLocalError",
     "evalue": "local variable 'content_str' referenced before assignment",
     "output_type": "error",
     "traceback": [
      "\u001b[1;31m---------------------------------------------------------------------------\u001b[0m",
      "\u001b[1;31mUnboundLocalError\u001b[0m                         Traceback (most recent call last)",
      "\u001b[1;32m~\\AppData\\Local\\Temp/ipykernel_6592/3375615413.py\u001b[0m in \u001b[0;36mpreview_clicked\u001b[1;34m(b)\u001b[0m\n\u001b[0;32m      1\u001b[0m \u001b[1;32mdef\u001b[0m \u001b[0mpreview_clicked\u001b[0m\u001b[1;33m(\u001b[0m\u001b[0mb\u001b[0m\u001b[1;33m)\u001b[0m\u001b[1;33m:\u001b[0m\u001b[1;33m\u001b[0m\u001b[1;33m\u001b[0m\u001b[0m\n\u001b[1;32m----> 2\u001b[1;33m     \u001b[0mpreview\u001b[0m\u001b[1;33m(\u001b[0m\u001b[1;33m)\u001b[0m\u001b[1;33m\u001b[0m\u001b[1;33m\u001b[0m\u001b[0m\n\u001b[0m\u001b[0;32m      3\u001b[0m \u001b[1;32mdef\u001b[0m \u001b[0mupload_clicked\u001b[0m\u001b[1;33m(\u001b[0m\u001b[0mb\u001b[0m\u001b[1;33m)\u001b[0m\u001b[1;33m:\u001b[0m\u001b[1;33m\u001b[0m\u001b[1;33m\u001b[0m\u001b[0m\n\u001b[0;32m      4\u001b[0m     \u001b[0mupload\u001b[0m\u001b[1;33m(\u001b[0m\u001b[1;33m)\u001b[0m\u001b[1;33m\u001b[0m\u001b[1;33m\u001b[0m\u001b[0m\n\u001b[0;32m      5\u001b[0m \u001b[1;32mdef\u001b[0m \u001b[0mdesc_clicked\u001b[0m\u001b[1;33m(\u001b[0m\u001b[0mb\u001b[0m\u001b[1;33m)\u001b[0m\u001b[1;33m:\u001b[0m\u001b[1;33m\u001b[0m\u001b[1;33m\u001b[0m\u001b[0m\n",
      "\u001b[1;32m~\\AppData\\Local\\Temp/ipykernel_6592/3719978793.py\u001b[0m in \u001b[0;36mpreview\u001b[1;34m()\u001b[0m\n\u001b[0;32m      1\u001b[0m \u001b[1;32mdef\u001b[0m \u001b[0mpreview\u001b[0m\u001b[1;33m(\u001b[0m\u001b[1;33m)\u001b[0m\u001b[1;33m:\u001b[0m\u001b[1;33m\u001b[0m\u001b[1;33m\u001b[0m\u001b[0m\n\u001b[1;32m----> 2\u001b[1;33m     \u001b[0mdf\u001b[0m \u001b[1;33m=\u001b[0m \u001b[0mdf_converter\u001b[0m\u001b[1;33m(\u001b[0m\u001b[1;33m)\u001b[0m\u001b[1;33m\u001b[0m\u001b[1;33m\u001b[0m\u001b[0m\n\u001b[0m\u001b[0;32m      3\u001b[0m     \u001b[1;32mwith\u001b[0m \u001b[0mout\u001b[0m\u001b[1;33m:\u001b[0m\u001b[1;33m\u001b[0m\u001b[1;33m\u001b[0m\u001b[0m\n\u001b[0;32m      4\u001b[0m         \u001b[0mout\u001b[0m\u001b[1;33m.\u001b[0m\u001b[0mclear_output\u001b[0m\u001b[1;33m(\u001b[0m\u001b[1;33m)\u001b[0m\u001b[1;33m\u001b[0m\u001b[1;33m\u001b[0m\u001b[0m\n\u001b[0;32m      5\u001b[0m         \u001b[0mprint\u001b[0m\u001b[1;33m(\u001b[0m\u001b[1;34m'\\n -----Now this is how your DF looks like:----- \\n'\u001b[0m\u001b[1;33m)\u001b[0m\u001b[1;33m\u001b[0m\u001b[1;33m\u001b[0m\u001b[0m\n",
      "\u001b[1;32m~\\AppData\\Local\\Temp/ipykernel_6592/2348278540.py\u001b[0m in \u001b[0;36mdf_converter\u001b[1;34m()\u001b[0m\n\u001b[0;32m      1\u001b[0m \u001b[1;32mdef\u001b[0m \u001b[0mdf_converter\u001b[0m\u001b[1;33m(\u001b[0m\u001b[1;33m)\u001b[0m\u001b[1;33m:\u001b[0m\u001b[1;33m\u001b[0m\u001b[1;33m\u001b[0m\u001b[0m\n\u001b[1;32m----> 2\u001b[1;33m     \u001b[0mcontent\u001b[0m \u001b[1;33m=\u001b[0m \u001b[0mcontent_parser\u001b[0m\u001b[1;33m(\u001b[0m\u001b[1;33m)\u001b[0m\u001b[1;33m\u001b[0m\u001b[1;33m\u001b[0m\u001b[0m\n\u001b[0m\u001b[0;32m      3\u001b[0m     \u001b[1;32mif\u001b[0m \u001b[0mcontent\u001b[0m \u001b[1;32mis\u001b[0m \u001b[1;32mnot\u001b[0m \u001b[1;32mNone\u001b[0m\u001b[1;33m:\u001b[0m\u001b[1;33m\u001b[0m\u001b[1;33m\u001b[0m\u001b[0m\n\u001b[0;32m      4\u001b[0m         \u001b[0mdf\u001b[0m \u001b[1;33m=\u001b[0m \u001b[0mpd\u001b[0m\u001b[1;33m.\u001b[0m\u001b[0mread_csv\u001b[0m\u001b[1;33m(\u001b[0m\u001b[0mcontent\u001b[0m\u001b[1;33m,\u001b[0m \u001b[0msep\u001b[0m\u001b[1;33m=\u001b[0m\u001b[0mdelim\u001b[0m\u001b[1;33m.\u001b[0m\u001b[0mvalue\u001b[0m\u001b[1;33m,\u001b[0m \u001b[0mindex_col\u001b[0m\u001b[1;33m=\u001b[0m\u001b[1;32mFalse\u001b[0m\u001b[1;33m,\u001b[0m \u001b[0mskiprows\u001b[0m\u001b[1;33m=\u001b[0m\u001b[0mrows\u001b[0m\u001b[1;33m.\u001b[0m\u001b[0mvalue\u001b[0m\u001b[1;33m)\u001b[0m\u001b[1;33m\u001b[0m\u001b[1;33m\u001b[0m\u001b[0m\n\u001b[0;32m      5\u001b[0m         \u001b[1;32mreturn\u001b[0m \u001b[0mdf\u001b[0m\u001b[1;33m\u001b[0m\u001b[1;33m\u001b[0m\u001b[0m\n",
      "\u001b[1;32m~\\AppData\\Local\\Temp/ipykernel_6592/2086105403.py\u001b[0m in \u001b[0;36mcontent_parser\u001b[1;34m()\u001b[0m\n\u001b[0;32m     15\u001b[0m                 \u001b[1;32mfor\u001b[0m \u001b[0mval\u001b[0m \u001b[1;32min\u001b[0m \u001b[0meraser\u001b[0m\u001b[1;33m.\u001b[0m\u001b[0mvalue\u001b[0m\u001b[1;33m:\u001b[0m\u001b[1;33m\u001b[0m\u001b[1;33m\u001b[0m\u001b[0m\n\u001b[0;32m     16\u001b[0m                     \u001b[1;32mif\u001b[0m \u001b[0mval\u001b[0m \u001b[1;33m==\u001b[0m \u001b[1;34m\"tab\"\u001b[0m\u001b[1;33m:\u001b[0m\u001b[1;33m\u001b[0m\u001b[1;33m\u001b[0m\u001b[0m\n\u001b[1;32m---> 17\u001b[1;33m                         \u001b[0mcontent_str\u001b[0m \u001b[1;33m=\u001b[0m \u001b[0mcontent_str\u001b[0m\u001b[1;33m.\u001b[0m\u001b[0mreplace\u001b[0m\u001b[1;33m(\u001b[0m\u001b[1;34m\"\\t\"\u001b[0m\u001b[1;33m,\u001b[0m\u001b[1;34m\"\"\u001b[0m\u001b[1;33m)\u001b[0m\u001b[1;33m\u001b[0m\u001b[1;33m\u001b[0m\u001b[0m\n\u001b[0m\u001b[0;32m     18\u001b[0m                     \u001b[1;32melse\u001b[0m\u001b[1;33m:\u001b[0m\u001b[1;33m\u001b[0m\u001b[1;33m\u001b[0m\u001b[0m\n\u001b[0;32m     19\u001b[0m                         \u001b[0mcontent_str\u001b[0m \u001b[1;33m=\u001b[0m \u001b[0mcontent_str\u001b[0m\u001b[1;33m.\u001b[0m\u001b[0mreplace\u001b[0m\u001b[1;33m(\u001b[0m\u001b[0mval\u001b[0m\u001b[1;33m,\u001b[0m\u001b[1;34m\"\"\u001b[0m\u001b[1;33m)\u001b[0m\u001b[1;33m\u001b[0m\u001b[1;33m\u001b[0m\u001b[0m\n",
      "\u001b[1;31mUnboundLocalError\u001b[0m: local variable 'content_str' referenced before assignment"
     ]
    }
   ],
   "source": [
    "display(tab)"
   ]
  },
  {
   "cell_type": "code",
   "execution_count": null,
   "id": "8377fa3b",
   "metadata": {},
   "outputs": [],
   "source": []
  }
 ],
 "metadata": {
  "kernelspec": {
   "display_name": "Python 3 (ipykernel)",
   "language": "python",
   "name": "python3"
  },
  "language_info": {
   "codemirror_mode": {
    "name": "ipython",
    "version": 3
   },
   "file_extension": ".py",
   "mimetype": "text/x-python",
   "name": "python",
   "nbconvert_exporter": "python",
   "pygments_lexer": "ipython3",
   "version": "3.9.7"
  }
 },
 "nbformat": 4,
 "nbformat_minor": 5
}
